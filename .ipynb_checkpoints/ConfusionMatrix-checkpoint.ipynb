{
 "cells": [
  {
   "cell_type": "code",
   "execution_count": 6,
   "metadata": {},
   "outputs": [],
   "source": [
    "# import numpy as np\n",
    "# import pandas as pd\n",
    "# from sklearn.datasets import load_digits\n",
    "# from sklearn.model_selection import train_test_split\n",
    "# from sklearn.linear_model import LogisticRegression\n",
    "# from sklearn.cluster import KMeans\n",
    "# from sklearn.metrics import accuracy_score\n",
    "# from sklearn.metrics import confusion_matrix\n",
    "\n",
    "# # class clust():\n",
    "#     def _load_data(self, sklearn_load_ds):\n",
    "#         data = sklearn_load_ds\n",
    "#         X = pd.DataFrame(data.data)\n",
    "#         self.X_train, self.X_test, self.y_train, self.y_test = train_test_split(X, data.target, test_size=0.3, random_state=42)\n",
    "        \n",
    "        \n",
    "#     def __init__(self, sklearn_load_ds):\n",
    "#         self._load_data(sklearn_load_ds)\n",
    "    \n",
    "    \n",
    "#     def classify(self, model=LogisticRegression(random_state=42)):\n",
    "#         model.fit(self.X_train, self.y_train)\n",
    "#         y_pred = model.predict(self.X_test)\n",
    "#         print('Accuracy: {}'.format(accuracy_score(self.y_test, y_pred)))\n",
    "\n",
    "\n",
    "#     def Kmeans(self, output='add'):\n",
    "#         n_clusters = len(np.unique(self.y_train))\n",
    "#         clf = KMeans(n_clusters = n_clusters, random_state=42)\n",
    "#         clf.fit(self.X_train)\n",
    "#         y_labels_train = clf.labels_\n",
    "#         y_labels_test = clf.predict(self.X_test)\n",
    "#         if output == 'add':\n",
    "#             self.X_train['km_clust'] = y_labels_train\n",
    "#             self.X_test['km_clust'] = y_labels_test\n",
    "#         elif output == 'replace':\n",
    "#             self.X_train = y_labels_train[:, np.newaxis]\n",
    "#             self.X_test = y_labels_test[:, np.newaxis]\n",
    "#         else:\n",
    "#             raise ValueError('output should be either add or replace')\n",
    "#         return self"
   ]
  },
  {
   "cell_type": "code",
   "execution_count": 1,
   "metadata": {},
   "outputs": [],
   "source": [
    "import numpy as np\n",
    "import matplotlib.pyplot as plt\n",
    "import seaborn as sns\n",
    "import pandas as pd\n",
    "import itertools\n",
    "# for plotting the ROC Curve\n",
    "from sklearn.metrics import roc_curve, auc"
   ]
  },
  {
   "cell_type": "code",
   "execution_count": 2,
   "metadata": {},
   "outputs": [
    {
     "data": {
      "text/html": [
       "<div>\n",
       "<style scoped>\n",
       "    .dataframe tbody tr th:only-of-type {\n",
       "        vertical-align: middle;\n",
       "    }\n",
       "\n",
       "    .dataframe tbody tr th {\n",
       "        vertical-align: top;\n",
       "    }\n",
       "\n",
       "    .dataframe thead th {\n",
       "        text-align: right;\n",
       "    }\n",
       "</style>\n",
       "<table border=\"1\" class=\"dataframe\">\n",
       "  <thead>\n",
       "    <tr style=\"text-align: right;\">\n",
       "      <th></th>\n",
       "      <th>Chromagram</th>\n",
       "      <th>RootMeanSquare</th>\n",
       "      <th>LowEnergyBrightness</th>\n",
       "      <th>SpectralCentroid</th>\n",
       "      <th>Flatness</th>\n",
       "      <th>Bandwidth</th>\n",
       "      <th>InHarmonicity</th>\n",
       "      <th>Rolloff</th>\n",
       "      <th>ZeroCrossingRate</th>\n",
       "      <th>label</th>\n",
       "    </tr>\n",
       "  </thead>\n",
       "  <tbody>\n",
       "    <tr>\n",
       "      <th>0</th>\n",
       "      <td>0.308240</td>\n",
       "      <td>0.082484</td>\n",
       "      <td>27.461745</td>\n",
       "      <td>1530.180434</td>\n",
       "      <td>0.001002</td>\n",
       "      <td>1824.429264</td>\n",
       "      <td>0.001347</td>\n",
       "      <td>3168.064176</td>\n",
       "      <td>0.070382</td>\n",
       "      <td>blues</td>\n",
       "    </tr>\n",
       "    <tr>\n",
       "      <th>1</th>\n",
       "      <td>0.301362</td>\n",
       "      <td>0.064603</td>\n",
       "      <td>27.914919</td>\n",
       "      <td>1175.096777</td>\n",
       "      <td>0.000376</td>\n",
       "      <td>1712.769659</td>\n",
       "      <td>0.018918</td>\n",
       "      <td>2418.127045</td>\n",
       "      <td>0.044440</td>\n",
       "      <td>blues</td>\n",
       "    </tr>\n",
       "    <tr>\n",
       "      <th>2</th>\n",
       "      <td>0.296246</td>\n",
       "      <td>0.121445</td>\n",
       "      <td>28.715256</td>\n",
       "      <td>1300.687993</td>\n",
       "      <td>0.000450</td>\n",
       "      <td>1573.146791</td>\n",
       "      <td>0.023695</td>\n",
       "      <td>2474.635036</td>\n",
       "      <td>0.064787</td>\n",
       "      <td>blues</td>\n",
       "    </tr>\n",
       "    <tr>\n",
       "      <th>3</th>\n",
       "      <td>0.378577</td>\n",
       "      <td>0.117733</td>\n",
       "      <td>27.093797</td>\n",
       "      <td>763.311989</td>\n",
       "      <td>0.000145</td>\n",
       "      <td>1282.633866</td>\n",
       "      <td>0.003308</td>\n",
       "      <td>1384.558294</td>\n",
       "      <td>0.024863</td>\n",
       "      <td>blues</td>\n",
       "    </tr>\n",
       "    <tr>\n",
       "      <th>4</th>\n",
       "      <td>0.261497</td>\n",
       "      <td>0.060894</td>\n",
       "      <td>28.869262</td>\n",
       "      <td>1537.410063</td>\n",
       "      <td>0.000794</td>\n",
       "      <td>1578.964166</td>\n",
       "      <td>-0.049976</td>\n",
       "      <td>2951.473820</td>\n",
       "      <td>0.085609</td>\n",
       "      <td>blues</td>\n",
       "    </tr>\n",
       "  </tbody>\n",
       "</table>\n",
       "</div>"
      ],
      "text/plain": [
       "   Chromagram  RootMeanSquare  LowEnergyBrightness  SpectralCentroid  \\\n",
       "0    0.308240        0.082484            27.461745       1530.180434   \n",
       "1    0.301362        0.064603            27.914919       1175.096777   \n",
       "2    0.296246        0.121445            28.715256       1300.687993   \n",
       "3    0.378577        0.117733            27.093797        763.311989   \n",
       "4    0.261497        0.060894            28.869262       1537.410063   \n",
       "\n",
       "   Flatness    Bandwidth  InHarmonicity      Rolloff  ZeroCrossingRate  label  \n",
       "0  0.001002  1824.429264       0.001347  3168.064176          0.070382  blues  \n",
       "1  0.000376  1712.769659       0.018918  2418.127045          0.044440  blues  \n",
       "2  0.000450  1573.146791       0.023695  2474.635036          0.064787  blues  \n",
       "3  0.000145  1282.633866       0.003308  1384.558294          0.024863  blues  \n",
       "4  0.000794  1578.964166      -0.049976  2951.473820          0.085609  blues  "
      ]
     },
     "execution_count": 2,
     "metadata": {},
     "output_type": "execute_result"
    }
   ],
   "source": [
    "#Reading a dataset\n",
    "data = pd.read_csv('data_test_two.csv')\n",
    "data = data.drop(['mfcc1','mfcc2','mfcc3','mfcc4','mfcc5','mfcc6','mfcc7','mfcc8','mfcc9','mfcc10','mfcc11','mfcc12','mfcc13','mfcc14','mfcc15','mfcc16','mfcc17','mfcc18','mfcc19','mfcc20'],axis=1)\n",
    "features = ['Chromagram','RootMeanSquare','LowEnergyBrightness','SpectralCentroid','Flatness','Bandwidth','InHarmonicity','Rolloff','ZeroCrossingRate']\n",
    "#data.shape\n",
    "data = data.drop(['Filename'],axis=1) #Filename is not required\n",
    "data.head()"
   ]
  },
  {
   "cell_type": "code",
   "execution_count": 3,
   "metadata": {},
   "outputs": [
    {
     "data": {
      "text/plain": [
       "(1000, 10)"
      ]
     },
     "execution_count": 3,
     "metadata": {},
     "output_type": "execute_result"
    }
   ],
   "source": [
    "data.shape"
   ]
  },
  {
   "cell_type": "code",
   "execution_count": 4,
   "metadata": {},
   "outputs": [
    {
     "data": {
      "text/plain": [
       "Chromagram             False\n",
       "RootMeanSquare         False\n",
       "LowEnergyBrightness    False\n",
       "SpectralCentroid       False\n",
       "Flatness               False\n",
       "Bandwidth              False\n",
       "InHarmonicity          False\n",
       "Rolloff                False\n",
       "ZeroCrossingRate       False\n",
       "label                  False\n",
       "dtype: bool"
      ]
     },
     "execution_count": 4,
     "metadata": {},
     "output_type": "execute_result"
    }
   ],
   "source": [
    "data.isna().any()"
   ]
  },
  {
   "cell_type": "code",
   "execution_count": 5,
   "metadata": {},
   "outputs": [],
   "source": [
    "def plot_features(data):\n",
    "    plt.figure(figsize=(20, 10))\n",
    "    sns.set(font_scale=1.2)\n",
    "    sns.set_style('ticks') # change background to white background\n",
    "    plt.suptitle('Visualizing The Features Distribution', y=0.95)\n",
    "\n",
    "    plt.subplot(241)\n",
    "    color_list = ['gold','purple','brown']\n",
    "    data.Chromagram.plot(kind='hist', color='brown')\n",
    "    plt.xlabel('Chromagram')\n",
    "    plt.ylabel('Frequency')\n",
    "\n",
    "    plt.subplot(242)\n",
    "    color_list = ['gold','purple','brown']\n",
    "    data.RootMeanSquare.plot(kind='hist', color='brown')\n",
    "    plt.xlabel('RootMeanSquare')\n",
    "    plt.ylabel('Frequency')\n",
    "\n",
    "    plt.subplot(243)\n",
    "    color_list = ['gold','purple','brown']\n",
    "    data.LowEnergyBrightness.plot(kind='hist', color='brown')\n",
    "    plt.xlabel('LowEnergyBrightness')\n",
    "    plt.ylabel('Frequency')\n",
    "\n",
    "    plt.subplot(244)\n",
    "    color_list = ['gold','purple','brown']\n",
    "    data.SpectralCentroid.plot(kind='hist', color='brown')\n",
    "    plt.xlabel('SpectralCentroid')\n",
    "    plt.ylabel('Frequency')\n",
    "\n",
    "    plt.subplot(245)\n",
    "    color_list = ['gold','purple','brown']\n",
    "    data.Flatness.plot(kind='hist', color='brown')\n",
    "    plt.xlabel('Flatness')\n",
    "    plt.ylabel('Frequency')\n",
    "\n",
    "    plt.subplot(246)\n",
    "    color_list = ['gold','purple','brown']\n",
    "    data.Bandwidth.plot(kind='hist', color='brown')\n",
    "    plt.xlabel('Bandwidth')\n",
    "    plt.ylabel('Frequency')\n",
    "\n",
    "\n",
    "    plt.subplot(247)\n",
    "    color_list = ['gold','purple','brown']\n",
    "    data.InHarmonicity.plot(kind='hist', color='brown')\n",
    "    plt.xlabel('InHarmonicity')\n",
    "    plt.ylabel('Frequency')\n",
    "\n",
    "    plt.subplot(248)\n",
    "    color_list = ['gold','purple','brown']\n",
    "    data.Rolloff.plot(kind='hist', color='brown')\n",
    "    plt.xlabel('Rolloff')\n",
    "    plt.ylabel('Frequency')\n",
    "    \n",
    "#     plt.subplot(249)\n",
    "#     color_list = ['gold','purple','brown']\n",
    "#     data.ZeroCrossingRate.plot(kind='hist', color='brown')\n",
    "#     plt.xlabel('ZeroCrossingRate')\n",
    "#     plt.ylabel('Frequency')\n",
    "\n",
    "    plt.show()"
   ]
  },
  {
   "cell_type": "code",
   "execution_count": 6,
   "metadata": {},
   "outputs": [
    {
     "data": {
      "image/png": "[encoded data removed]",
      "text/plain": [
       "<Figure size 1440x720 with 8 Axes>"
      ]
     },
     "metadata": {},
     "output_type": "display_data"
    }
   ],
   "source": [
    "plot_features(data)"
   ]
  },
  {
   "cell_type": "code",
   "execution_count": 7,
   "metadata": {},
   "outputs": [],
   "source": [
    "# for i in data.columns:\n",
    "#     if i in ['Chromagram', 'RootMeanSquare', 'SpectralCentroid', 'InHarmonicity']:\n",
    "#         print(i)\n",
    "#         data[i] = data[i].apply(np.log)"
   ]
  },
  {
   "cell_type": "code",
   "execution_count": 8,
   "metadata": {},
   "outputs": [
    {
     "data": {
      "image/png": "[encoded data removed]",
      "text/plain": [
       "<Figure size 1440x720 with 8 Axes>"
      ]
     },
     "metadata": {},
     "output_type": "display_data"
    }
   ],
   "source": [
    "plot_features(data)"
   ]
  },
  {
   "cell_type": "code",
   "execution_count": 9,
   "metadata": {},
   "outputs": [
    {
     "data": {
      "text/plain": [
       "(1000, 10)"
      ]
     },
     "execution_count": 9,
     "metadata": {},
     "output_type": "execute_result"
    }
   ],
   "source": [
    "data.shape"
   ]
  },
  {
   "cell_type": "code",
   "execution_count": 10,
   "metadata": {},
   "outputs": [
    {
     "data": {
      "text/plain": [
       "Chromagram             0\n",
       "RootMeanSquare         0\n",
       "LowEnergyBrightness    0\n",
       "SpectralCentroid       0\n",
       "Flatness               0\n",
       "Bandwidth              0\n",
       "InHarmonicity          0\n",
       "Rolloff                0\n",
       "ZeroCrossingRate       0\n",
       "label                  0\n",
       "dtype: int64"
      ]
     },
     "execution_count": 10,
     "metadata": {},
     "output_type": "execute_result"
    }
   ],
   "source": [
    "data.isna().sum()"
   ]
  },
  {
   "cell_type": "code",
   "execution_count": 11,
   "metadata": {},
   "outputs": [],
   "source": [
    "for i in data.columns[:-2]:\n",
    "    mean = data[i].mean()\n",
    "    std = data[i].std()\n",
    "    mini = data[i].min()\n",
    "    maxi = data[i].max()\n",
    "    \n",
    "    # if columns are not Age or Pregnancies, apply the Z_score norm method\n",
    "    if i not in ['Chromagram', 'Rolloff']:\n",
    "        data[i] = data[i].apply(lambda x: (x - mean) / std)\n",
    "    \n",
    "    # Else if columns are either Age or Pregnancies, then apply the Min-Max norm method\n",
    "    else:\n",
    "        data[i] = data[i].apply(lambda x: (x - mini) / (maxi - mini))"
   ]
  },
  {
   "cell_type": "code",
   "execution_count": 12,
   "metadata": {},
   "outputs": [
    {
     "data": {
      "text/html": [
       "<div>\n",
       "<style scoped>\n",
       "    .dataframe tbody tr th:only-of-type {\n",
       "        vertical-align: middle;\n",
       "    }\n",
       "\n",
       "    .dataframe tbody tr th {\n",
       "        vertical-align: top;\n",
       "    }\n",
       "\n",
       "    .dataframe thead th {\n",
       "        text-align: right;\n",
       "    }\n",
       "</style>\n",
       "<table border=\"1\" class=\"dataframe\">\n",
       "  <thead>\n",
       "    <tr style=\"text-align: right;\">\n",
       "      <th></th>\n",
       "      <th>Chromagram</th>\n",
       "      <th>RootMeanSquare</th>\n",
       "      <th>LowEnergyBrightness</th>\n",
       "      <th>SpectralCentroid</th>\n",
       "      <th>Flatness</th>\n",
       "      <th>Bandwidth</th>\n",
       "      <th>InHarmonicity</th>\n",
       "      <th>Rolloff</th>\n",
       "      <th>ZeroCrossingRate</th>\n",
       "      <th>label</th>\n",
       "    </tr>\n",
       "  </thead>\n",
       "  <tbody>\n",
       "    <tr>\n",
       "      <th>0</th>\n",
       "      <td>0.317922</td>\n",
       "      <td>-0.237869</td>\n",
       "      <td>0.193120</td>\n",
       "      <td>-0.368518</td>\n",
       "      <td>-0.329553</td>\n",
       "      <td>-0.309940</td>\n",
       "      <td>-0.102986</td>\n",
       "      <td>0.341977</td>\n",
       "      <td>0.070382</td>\n",
       "      <td>blues</td>\n",
       "    </tr>\n",
       "    <tr>\n",
       "      <th>1</th>\n",
       "      <td>0.302273</td>\n",
       "      <td>-0.626503</td>\n",
       "      <td>0.338145</td>\n",
       "      <td>-0.958825</td>\n",
       "      <td>-0.383889</td>\n",
       "      <td>-0.537681</td>\n",
       "      <td>1.242052</td>\n",
       "      <td>0.240390</td>\n",
       "      <td>0.044440</td>\n",
       "      <td>blues</td>\n",
       "    </tr>\n",
       "    <tr>\n",
       "      <th>2</th>\n",
       "      <td>0.290634</td>\n",
       "      <td>0.608903</td>\n",
       "      <td>0.594269</td>\n",
       "      <td>-0.750037</td>\n",
       "      <td>-0.377494</td>\n",
       "      <td>-0.822455</td>\n",
       "      <td>1.607702</td>\n",
       "      <td>0.248045</td>\n",
       "      <td>0.064787</td>\n",
       "      <td>blues</td>\n",
       "    </tr>\n",
       "    <tr>\n",
       "      <th>3</th>\n",
       "      <td>0.477946</td>\n",
       "      <td>0.528231</td>\n",
       "      <td>0.075370</td>\n",
       "      <td>-1.643396</td>\n",
       "      <td>-0.404006</td>\n",
       "      <td>-1.414984</td>\n",
       "      <td>0.047112</td>\n",
       "      <td>0.100382</td>\n",
       "      <td>0.024863</td>\n",
       "      <td>blues</td>\n",
       "    </tr>\n",
       "    <tr>\n",
       "      <th>4</th>\n",
       "      <td>0.211573</td>\n",
       "      <td>-0.707114</td>\n",
       "      <td>0.643554</td>\n",
       "      <td>-0.356499</td>\n",
       "      <td>-0.347609</td>\n",
       "      <td>-0.810590</td>\n",
       "      <td>-4.031664</td>\n",
       "      <td>0.312638</td>\n",
       "      <td>0.085609</td>\n",
       "      <td>blues</td>\n",
       "    </tr>\n",
       "  </tbody>\n",
       "</table>\n",
       "</div>"
      ],
      "text/plain": [
       "   Chromagram  RootMeanSquare  LowEnergyBrightness  SpectralCentroid  \\\n",
       "0    0.317922       -0.237869             0.193120         -0.368518   \n",
       "1    0.302273       -0.626503             0.338145         -0.958825   \n",
       "2    0.290634        0.608903             0.594269         -0.750037   \n",
       "3    0.477946        0.528231             0.075370         -1.643396   \n",
       "4    0.211573       -0.707114             0.643554         -0.356499   \n",
       "\n",
       "   Flatness  Bandwidth  InHarmonicity   Rolloff  ZeroCrossingRate  label  \n",
       "0 -0.329553  -0.309940      -0.102986  0.341977          0.070382  blues  \n",
       "1 -0.383889  -0.537681       1.242052  0.240390          0.044440  blues  \n",
       "2 -0.377494  -0.822455       1.607702  0.248045          0.064787  blues  \n",
       "3 -0.404006  -1.414984       0.047112  0.100382          0.024863  blues  \n",
       "4 -0.347609  -0.810590      -4.031664  0.312638          0.085609  blues  "
      ]
     },
     "execution_count": 12,
     "metadata": {},
     "output_type": "execute_result"
    }
   ],
   "source": [
    "data.head()"
   ]
  },
  {
   "cell_type": "code",
   "execution_count": 13,
   "metadata": {},
   "outputs": [
    {
     "data": {
      "text/plain": [
       "0.428037    2\n",
       "0.403689    2\n",
       "0.461317    2\n",
       "0.484145    2\n",
       "0.452957    2\n",
       "0.459524    2\n",
       "0.551650    2\n",
       "0.399887    2\n",
       "0.620548    2\n",
       "0.409173    2\n",
       "0.564571    2\n",
       "0.509292    2\n",
       "0.435026    2\n",
       "0.538422    2\n",
       "0.263962    1\n",
       "0.220653    1\n",
       "0.186702    1\n",
       "0.147845    1\n",
       "0.404273    1\n",
       "0.349500    1\n",
       "0.440285    1\n",
       "0.285384    1\n",
       "0.238341    1\n",
       "0.498879    1\n",
       "0.075617    1\n",
       "0.620740    1\n",
       "0.543385    1\n",
       "0.524480    1\n",
       "0.398785    1\n",
       "0.314952    1\n",
       "           ..\n",
       "0.226922    1\n",
       "0.667368    1\n",
       "0.267011    1\n",
       "0.560333    1\n",
       "0.346694    1\n",
       "0.381248    1\n",
       "0.129408    1\n",
       "0.390515    1\n",
       "0.656363    1\n",
       "0.433014    1\n",
       "0.424447    1\n",
       "0.393640    1\n",
       "0.306179    1\n",
       "0.620159    1\n",
       "0.265715    1\n",
       "0.397216    1\n",
       "0.655519    1\n",
       "0.500302    1\n",
       "0.264699    1\n",
       "0.364210    1\n",
       "0.372608    1\n",
       "0.228330    1\n",
       "0.610338    1\n",
       "0.450126    1\n",
       "0.419467    1\n",
       "0.637753    1\n",
       "0.500468    1\n",
       "0.459639    1\n",
       "0.345146    1\n",
       "0.000000    1\n",
       "Name: Chromagram, Length: 986, dtype: int64"
      ]
     },
     "execution_count": 13,
     "metadata": {},
     "output_type": "execute_result"
    }
   ],
   "source": [
    "data.Chromagram.value_counts()"
   ]
  },
  {
   "cell_type": "code",
   "execution_count": 14,
   "metadata": {},
   "outputs": [
    {
     "data": {
      "text/html": [
       "<div>\n",
       "<style scoped>\n",
       "    .dataframe tbody tr th:only-of-type {\n",
       "        vertical-align: middle;\n",
       "    }\n",
       "\n",
       "    .dataframe tbody tr th {\n",
       "        vertical-align: top;\n",
       "    }\n",
       "\n",
       "    .dataframe thead th {\n",
       "        text-align: right;\n",
       "    }\n",
       "</style>\n",
       "<table border=\"1\" class=\"dataframe\">\n",
       "  <thead>\n",
       "    <tr style=\"text-align: right;\">\n",
       "      <th></th>\n",
       "      <th>Chromagram</th>\n",
       "      <th>RootMeanSquare</th>\n",
       "      <th>LowEnergyBrightness</th>\n",
       "      <th>SpectralCentroid</th>\n",
       "      <th>Flatness</th>\n",
       "      <th>Bandwidth</th>\n",
       "      <th>InHarmonicity</th>\n",
       "      <th>Rolloff</th>\n",
       "      <th>ZeroCrossingRate</th>\n",
       "      <th>label</th>\n",
       "    </tr>\n",
       "  </thead>\n",
       "  <tbody>\n",
       "    <tr>\n",
       "      <th>0</th>\n",
       "      <td>0.317922</td>\n",
       "      <td>-0.237869</td>\n",
       "      <td>0.193120</td>\n",
       "      <td>-0.368518</td>\n",
       "      <td>-0.329553</td>\n",
       "      <td>-0.309940</td>\n",
       "      <td>-0.102986</td>\n",
       "      <td>0.341977</td>\n",
       "      <td>0.070382</td>\n",
       "      <td>blues</td>\n",
       "    </tr>\n",
       "    <tr>\n",
       "      <th>1</th>\n",
       "      <td>0.302273</td>\n",
       "      <td>-0.626503</td>\n",
       "      <td>0.338145</td>\n",
       "      <td>-0.958825</td>\n",
       "      <td>-0.383889</td>\n",
       "      <td>-0.537681</td>\n",
       "      <td>1.242052</td>\n",
       "      <td>0.240390</td>\n",
       "      <td>0.044440</td>\n",
       "      <td>blues</td>\n",
       "    </tr>\n",
       "    <tr>\n",
       "      <th>2</th>\n",
       "      <td>0.290634</td>\n",
       "      <td>0.608903</td>\n",
       "      <td>0.594269</td>\n",
       "      <td>-0.750037</td>\n",
       "      <td>-0.377494</td>\n",
       "      <td>-0.822455</td>\n",
       "      <td>1.607702</td>\n",
       "      <td>0.248045</td>\n",
       "      <td>0.064787</td>\n",
       "      <td>blues</td>\n",
       "    </tr>\n",
       "    <tr>\n",
       "      <th>3</th>\n",
       "      <td>0.477946</td>\n",
       "      <td>0.528231</td>\n",
       "      <td>0.075370</td>\n",
       "      <td>-1.643396</td>\n",
       "      <td>-0.404006</td>\n",
       "      <td>-1.414984</td>\n",
       "      <td>0.047112</td>\n",
       "      <td>0.100382</td>\n",
       "      <td>0.024863</td>\n",
       "      <td>blues</td>\n",
       "    </tr>\n",
       "    <tr>\n",
       "      <th>4</th>\n",
       "      <td>0.211573</td>\n",
       "      <td>-0.707114</td>\n",
       "      <td>0.643554</td>\n",
       "      <td>-0.356499</td>\n",
       "      <td>-0.347609</td>\n",
       "      <td>-0.810590</td>\n",
       "      <td>-4.031664</td>\n",
       "      <td>0.312638</td>\n",
       "      <td>0.085609</td>\n",
       "      <td>blues</td>\n",
       "    </tr>\n",
       "  </tbody>\n",
       "</table>\n",
       "</div>"
      ],
      "text/plain": [
       "   Chromagram  RootMeanSquare  LowEnergyBrightness  SpectralCentroid  \\\n",
       "0    0.317922       -0.237869             0.193120         -0.368518   \n",
       "1    0.302273       -0.626503             0.338145         -0.958825   \n",
       "2    0.290634        0.608903             0.594269         -0.750037   \n",
       "3    0.477946        0.528231             0.075370         -1.643396   \n",
       "4    0.211573       -0.707114             0.643554         -0.356499   \n",
       "\n",
       "   Flatness  Bandwidth  InHarmonicity   Rolloff  ZeroCrossingRate  label  \n",
       "0 -0.329553  -0.309940      -0.102986  0.341977          0.070382  blues  \n",
       "1 -0.383889  -0.537681       1.242052  0.240390          0.044440  blues  \n",
       "2 -0.377494  -0.822455       1.607702  0.248045          0.064787  blues  \n",
       "3 -0.404006  -1.414984       0.047112  0.100382          0.024863  blues  \n",
       "4 -0.347609  -0.810590      -4.031664  0.312638          0.085609  blues  "
      ]
     },
     "execution_count": 14,
     "metadata": {},
     "output_type": "execute_result"
    }
   ],
   "source": [
    "# feature_matrix = diabetes_doctor_df.iloc[:,1:-2]\n",
    "# feature_matrix.head()\n",
    "feature_matrix = data\n",
    "feature_matrix.head()"
   ]
  },
  {
   "cell_type": "code",
   "execution_count": 15,
   "metadata": {},
   "outputs": [
    {
     "data": {
      "text/plain": [
       "(1000, 10)"
      ]
     },
     "execution_count": 15,
     "metadata": {},
     "output_type": "execute_result"
    }
   ],
   "source": [
    "feature_matrix.shape"
   ]
  },
  {
   "cell_type": "code",
   "execution_count": 16,
   "metadata": {},
   "outputs": [
    {
     "data": {
      "text/plain": [
       "0    blues\n",
       "1    blues\n",
       "2    blues\n",
       "3    blues\n",
       "4    blues\n",
       "Name: label, dtype: object"
      ]
     },
     "execution_count": 16,
     "metadata": {},
     "output_type": "execute_result"
    }
   ],
   "source": [
    "label = data.label\n",
    "label.head()"
   ]
  },
  {
   "cell_type": "code",
   "execution_count": 17,
   "metadata": {},
   "outputs": [
    {
     "name": "stdout",
     "output_type": "stream",
     "text": [
      "X_train shape is (900, 10)\n",
      "X_test shape is (100, 10)\n",
      "y_train shape is (900,)\n",
      "y_test shape is (100,)\n"
     ]
    }
   ],
   "source": [
    "from sklearn.model_selection import train_test_split\n",
    "\n",
    "X_train, X_test, y_train, y_test = train_test_split(feature_matrix, label, test_size=0.1, random_state=1234)\n",
    "\n",
    "print('X_train shape is',X_train.shape)\n",
    "print('X_test shape is',X_test.shape)\n",
    "print('y_train shape is',y_train.shape)\n",
    "print('y_test shape is',y_test.shape)"
   ]
  },
  {
   "cell_type": "code",
   "execution_count": 23,
   "metadata": {},
   "outputs": [],
   "source": [
    "from sklearn.tree import DecisionTreeClassifier\n",
    "from sklearn import metrics\n",
    "from sklearn.metrics import f1_score\n",
    "from sklearn.metrics import confusion_matrix\n",
    "from sklearn.metrics import log_loss"
   ]
  },
  {
   "cell_type": "code",
   "execution_count": 35,
   "metadata": {},
   "outputs": [],
   "source": [
    "# from sklearn.metrics import classification_report\n",
    "\n",
    "\n",
    "# def plot_confusion_matrix(cm, classes,\n",
    "#                           normalize=False,\n",
    "#                           title='Confusion matrix',\n",
    "#                           cmap=plt.cm.Blues):\n",
    "#     \"\"\"\n",
    "#     This function prints and plots the confusion matrix.\n",
    "#     Normalization can be applied by setting `normalize=True`.\n",
    "#     \"\"\"\n",
    "#     if normalize:\n",
    "#         cm = cm.astype('float') / cm.sum(axis=1)[:, np.newaxis]\n",
    "#         print(\"Normalized confusion matrix\")\n",
    "#     else:\n",
    "#         print('Confusion matrix, without normalization')\n",
    "\n",
    "#     print(cm)\n",
    "\n",
    "#     plt.imshow(cm, interpolation='nearest', cmap=cmap)\n",
    "#     plt.title(title)\n",
    "#     plt.colorbar()\n",
    "#     tick_marks = np.arange(len(classes))\n",
    "#     plt.xticks(tick_marks, classes, rotation=45)\n",
    "#     plt.yticks(tick_marks, classes)\n",
    "\n",
    "#     fmt = '.2f' if normalize else 'd'\n",
    "#     thresh = cm.max() / 2.\n",
    "#     for i, j in itertools.product(range(cm.shape[0]), range(cm.shape[1])):\n",
    "#         plt.text(j, i, format(cm[i, j], fmt),\n",
    "#                  horizontalalignment=\"center\",\n",
    "#                  color=\"white\" if cm[i, j] > thresh else \"black\")\n",
    "\n",
    "#     plt.tight_layout()\n",
    "#     plt.ylabel('True label')\n",
    "#     plt.xlabel('Predicted label')"
   ]
  },
  {
   "cell_type": "code",
   "execution_count": 37,
   "metadata": {},
   "outputs": [],
   "source": [
    "# def plot_roc_chart(model):\n",
    "#      # calculate the fpr and tpr for all thresholds of the classification\n",
    "#     probs = model.predict_proba(X_test)\n",
    "#     preds = probs[:,1]\n",
    "#     fpr, tpr, threshold = metrics.roc_curve(y_test, preds)\n",
    "#     roc_auc = metrics.auc(fpr, tpr)\n",
    "\n",
    "#     # method I: plt\n",
    "#     plt.figure(figsize=(8,6))\n",
    "#     plt.title('Receiver Operating Characteristic')\n",
    "#     plt.plot(fpr, tpr, 'b', label = 'AUC = %0.2f' % roc_auc)\n",
    "#     plt.legend(loc = 'lower right')\n",
    "#     plt.plot([0, 1], [0, 1],'r--')\n",
    "#     plt.xlim([0, 1])\n",
    "#     plt.ylim([0, 1])\n",
    "#     plt.ylabel('True Positive Rate')\n",
    "#     plt.xlabel('False Positive Rate')\n",
    "#     plt.show()\n",
    "#     return probs"
   ]
  },
  {
   "cell_type": "code",
   "execution_count": 39,
   "metadata": {},
   "outputs": [],
   "source": [
    "# decision_tree_classifier = best_decision_tree_classifier(X_train, X_test, y_train, y_test)\n",
    "# decision_tree_classifier"
   ]
  },
  {
   "cell_type": "code",
   "execution_count": 32,
   "metadata": {},
   "outputs": [
    {
     "name": "stdout",
     "output_type": "stream",
     "text": [
      "X_train shape is (900, 9)\n",
      "X_test shape is (100, 9)\n",
      "y_train shape is (900, 9)\n",
      "y_test shape is (100, 9)\n"
     ]
    }
   ],
   "source": [
    "X_train, X_test, y_train, y_test = train_test_split(data[features], data[features], test_size=0.1, random_state=1234)\n",
    "\n",
    "print('X_train shape is',X_train.shape)\n",
    "print('X_test shape is',X_test.shape)\n",
    "print('y_train shape is',y_train.shape)\n",
    "print('y_test shape is',y_test.shape)"
   ]
  },
  {
   "cell_type": "code",
   "execution_count": 23,
   "metadata": {},
   "outputs": [],
   "source": [
    "# from sklearn.metrics import confusion_matrix \n",
    "# from sklearn.metrics import accuracy_score \n",
    "# from sklearn.metrics import classification_report \n",
    "\n",
    "# olddata = X_train\n",
    "# newdata = y_train\n",
    "# print(olddata)\n",
    "# print(newdata)"
   ]
  },
  {
   "cell_type": "code",
   "execution_count": 36,
   "metadata": {},
   "outputs": [
    {
     "name": "stdout",
     "output_type": "stream",
     "text": [
      "Automatically created module for IPython interactive environment\n"
     ]
    },
    {
     "ename": "ValueError",
     "evalue": "bad input shape (900, 9)",
     "output_type": "error",
     "traceback": [
      "\u001b[1;31m---------------------------------------------------------------------------\u001b[0m",
      "\u001b[1;31mValueError\u001b[0m                                Traceback (most recent call last)",
      "\u001b[1;32m<ipython-input-36-3674d15d40b4>\u001b[0m in \u001b[0;36m<module>\u001b[1;34m()\u001b[0m\n\u001b[0;32m     13\u001b[0m \u001b[1;33m\u001b[0m\u001b[0m\n\u001b[0;32m     14\u001b[0m \u001b[0mclassifier\u001b[0m \u001b[1;33m=\u001b[0m \u001b[0msvm\u001b[0m\u001b[1;33m.\u001b[0m\u001b[0mSVC\u001b[0m\u001b[1;33m(\u001b[0m\u001b[0mkernel\u001b[0m\u001b[1;33m=\u001b[0m\u001b[1;34m'linear'\u001b[0m\u001b[1;33m,\u001b[0m \u001b[0mC\u001b[0m\u001b[1;33m=\u001b[0m\u001b[1;36m0.1\u001b[0m\u001b[1;33m)\u001b[0m\u001b[1;33m\u001b[0m\u001b[0m\n\u001b[1;32m---> 15\u001b[1;33m \u001b[0my_pred\u001b[0m \u001b[1;33m=\u001b[0m \u001b[0mclassifier\u001b[0m\u001b[1;33m.\u001b[0m\u001b[0mfit\u001b[0m\u001b[1;33m(\u001b[0m\u001b[0mX_train\u001b[0m\u001b[1;33m,\u001b[0m \u001b[0my_train\u001b[0m\u001b[1;33m)\u001b[0m\u001b[1;33m.\u001b[0m\u001b[0mpredict\u001b[0m\u001b[1;33m(\u001b[0m\u001b[0mX_test\u001b[0m\u001b[1;33m)\u001b[0m\u001b[1;33m\u001b[0m\u001b[0m\n\u001b[0m\u001b[0;32m     16\u001b[0m \u001b[1;33m\u001b[0m\u001b[0m\n\u001b[0;32m     17\u001b[0m def plot_confusion_matrix(y_test, y_pred, classes,\n",
      "\u001b[1;32mC:\\Program Files (x86)\\Microsoft Visual Studio\\Shared\\Anaconda3_64\\lib\\site-packages\\sklearn\\svm\\base.py\u001b[0m in \u001b[0;36mfit\u001b[1;34m(self, X, y, sample_weight)\u001b[0m\n\u001b[0;32m    147\u001b[0m         \u001b[0mself\u001b[0m\u001b[1;33m.\u001b[0m\u001b[0m_sparse\u001b[0m \u001b[1;33m=\u001b[0m \u001b[0msparse\u001b[0m \u001b[1;32mand\u001b[0m \u001b[1;32mnot\u001b[0m \u001b[0mcallable\u001b[0m\u001b[1;33m(\u001b[0m\u001b[0mself\u001b[0m\u001b[1;33m.\u001b[0m\u001b[0mkernel\u001b[0m\u001b[1;33m)\u001b[0m\u001b[1;33m\u001b[0m\u001b[0m\n\u001b[0;32m    148\u001b[0m \u001b[1;33m\u001b[0m\u001b[0m\n\u001b[1;32m--> 149\u001b[1;33m         \u001b[0mX\u001b[0m\u001b[1;33m,\u001b[0m \u001b[0my\u001b[0m \u001b[1;33m=\u001b[0m \u001b[0mcheck_X_y\u001b[0m\u001b[1;33m(\u001b[0m\u001b[0mX\u001b[0m\u001b[1;33m,\u001b[0m \u001b[0my\u001b[0m\u001b[1;33m,\u001b[0m \u001b[0mdtype\u001b[0m\u001b[1;33m=\u001b[0m\u001b[0mnp\u001b[0m\u001b[1;33m.\u001b[0m\u001b[0mfloat64\u001b[0m\u001b[1;33m,\u001b[0m \u001b[0morder\u001b[0m\u001b[1;33m=\u001b[0m\u001b[1;34m'C'\u001b[0m\u001b[1;33m,\u001b[0m \u001b[0maccept_sparse\u001b[0m\u001b[1;33m=\u001b[0m\u001b[1;34m'csr'\u001b[0m\u001b[1;33m)\u001b[0m\u001b[1;33m\u001b[0m\u001b[0m\n\u001b[0m\u001b[0;32m    150\u001b[0m         \u001b[0my\u001b[0m \u001b[1;33m=\u001b[0m \u001b[0mself\u001b[0m\u001b[1;33m.\u001b[0m\u001b[0m_validate_targets\u001b[0m\u001b[1;33m(\u001b[0m\u001b[0my\u001b[0m\u001b[1;33m)\u001b[0m\u001b[1;33m\u001b[0m\u001b[0m\n\u001b[0;32m    151\u001b[0m \u001b[1;33m\u001b[0m\u001b[0m\n",
      "\u001b[1;32mC:\\Program Files (x86)\\Microsoft Visual Studio\\Shared\\Anaconda3_64\\lib\\site-packages\\sklearn\\utils\\validation.py\u001b[0m in \u001b[0;36mcheck_X_y\u001b[1;34m(X, y, accept_sparse, dtype, order, copy, force_all_finite, ensure_2d, allow_nd, multi_output, ensure_min_samples, ensure_min_features, y_numeric, warn_on_dtype, estimator)\u001b[0m\n\u001b[0;32m    576\u001b[0m                         dtype=None)\n\u001b[0;32m    577\u001b[0m     \u001b[1;32melse\u001b[0m\u001b[1;33m:\u001b[0m\u001b[1;33m\u001b[0m\u001b[0m\n\u001b[1;32m--> 578\u001b[1;33m         \u001b[0my\u001b[0m \u001b[1;33m=\u001b[0m \u001b[0mcolumn_or_1d\u001b[0m\u001b[1;33m(\u001b[0m\u001b[0my\u001b[0m\u001b[1;33m,\u001b[0m \u001b[0mwarn\u001b[0m\u001b[1;33m=\u001b[0m\u001b[1;32mTrue\u001b[0m\u001b[1;33m)\u001b[0m\u001b[1;33m\u001b[0m\u001b[0m\n\u001b[0m\u001b[0;32m    579\u001b[0m         \u001b[0m_assert_all_finite\u001b[0m\u001b[1;33m(\u001b[0m\u001b[0my\u001b[0m\u001b[1;33m)\u001b[0m\u001b[1;33m\u001b[0m\u001b[0m\n\u001b[0;32m    580\u001b[0m     \u001b[1;32mif\u001b[0m \u001b[0my_numeric\u001b[0m \u001b[1;32mand\u001b[0m \u001b[0my\u001b[0m\u001b[1;33m.\u001b[0m\u001b[0mdtype\u001b[0m\u001b[1;33m.\u001b[0m\u001b[0mkind\u001b[0m \u001b[1;33m==\u001b[0m \u001b[1;34m'O'\u001b[0m\u001b[1;33m:\u001b[0m\u001b[1;33m\u001b[0m\u001b[0m\n",
      "\u001b[1;32mC:\\Program Files (x86)\\Microsoft Visual Studio\\Shared\\Anaconda3_64\\lib\\site-packages\\sklearn\\utils\\validation.py\u001b[0m in \u001b[0;36mcolumn_or_1d\u001b[1;34m(y, warn)\u001b[0m\n\u001b[0;32m    612\u001b[0m         \u001b[1;32mreturn\u001b[0m \u001b[0mnp\u001b[0m\u001b[1;33m.\u001b[0m\u001b[0mravel\u001b[0m\u001b[1;33m(\u001b[0m\u001b[0my\u001b[0m\u001b[1;33m)\u001b[0m\u001b[1;33m\u001b[0m\u001b[0m\n\u001b[0;32m    613\u001b[0m \u001b[1;33m\u001b[0m\u001b[0m\n\u001b[1;32m--> 614\u001b[1;33m     \u001b[1;32mraise\u001b[0m \u001b[0mValueError\u001b[0m\u001b[1;33m(\u001b[0m\u001b[1;34m\"bad input shape {0}\"\u001b[0m\u001b[1;33m.\u001b[0m\u001b[0mformat\u001b[0m\u001b[1;33m(\u001b[0m\u001b[0mshape\u001b[0m\u001b[1;33m)\u001b[0m\u001b[1;33m)\u001b[0m\u001b[1;33m\u001b[0m\u001b[0m\n\u001b[0m\u001b[0;32m    615\u001b[0m \u001b[1;33m\u001b[0m\u001b[0m\n\u001b[0;32m    616\u001b[0m \u001b[1;33m\u001b[0m\u001b[0m\n",
      "\u001b[1;31mValueError\u001b[0m: bad input shape (900, 9)"
     ]
    }
   ],
   "source": [
    "#https://scikit-learn.org/stable/auto_examples/model_selection/plot_confusion_matrix.html#sphx-glr-auto-examples-model-selection-plot-confusion-matrix-py\n",
    "#https://stackoverflow.com/questions/35572000/how-can-i-plot-a-confusion-matrix\n",
    "print(__doc__)\n",
    "\n",
    "import numpy as np\n",
    "import matplotlib.pyplot as plt\n",
    "import pandas as pd\n",
    "\n",
    "from sklearn import svm, datasets\n",
    "from sklearn.model_selection import train_test_split\n",
    "from sklearn.metrics import confusion_matrix\n",
    "from sklearn.utils.multiclass import unique_labels\n",
    "\n",
    "classifier = svm.SVC(kernel='linear', C=0.1)\n",
    "y_pred = classifier.fit(X_train, y_train).predict(X_test)\n",
    "\n",
    "def plot_confusion_matrix(y_test, y_pred, classes,\n",
    "                          normalize=False,\n",
    "                          title=None,\n",
    "                          cmap=plt.cm.Blues):\n",
    "    \"\"\"\n",
    "    This function prints and plots the confusion matrix.\n",
    "    Normalization can be applied by setting `normalize=True`.\n",
    "    \"\"\"\n",
    "    if not title:\n",
    "        if normalize:\n",
    "            title = 'Normalized confusion matrix'\n",
    "        else:\n",
    "            title = 'Confusion matrix, without normalization'\n",
    "\n",
    "    # Compute confusion matrix\n",
    "    cm = confusion_matrix(y_true, y_pred)\n",
    "    # Only use the labels that appear in the data\n",
    "    classes = classes[unique_labels(y_true, y_pred)]\n",
    "    if normalize:\n",
    "        cm = cm.astype('float') / cm.sum(axis=1)[:, np.newaxis]\n",
    "        print(\"Normalized confusion matrix\")\n",
    "    else:\n",
    "        print('Confusion matrix, without normalization')\n",
    "\n",
    "    print(cm)\n",
    "\n",
    "    fig, ax = plt.subplots()\n",
    "    im = ax.imshow(cm, interpolation='nearest', cmap=cmap)\n",
    "    ax.figure.colorbar(im, ax=ax)\n",
    "    # We want to show all ticks...\n",
    "    ax.set(xticks=np.arange(cm.shape[1]),\n",
    "           yticks=np.arange(cm.shape[0]),\n",
    "           # ... and label them with the respective list entries\n",
    "           xticklabels=classes, yticklabels=classes,\n",
    "           title=title,\n",
    "           ylabel='True label',\n",
    "           xlabel='Predicted label')\n",
    "\n",
    "    # Rotate the tick labels and set their alignment.\n",
    "    plt.setp(ax.get_xticklabels(), rotation=45, ha=\"right\",\n",
    "             rotation_mode=\"anchor\")\n",
    "\n",
    "    # Loop over data dimensions and create text annotations.\n",
    "    fmt = '.2f' if normalize else 'd'\n",
    "    thresh = cm.max() / 2.\n",
    "    for i in range(cm.shape[0]):\n",
    "        for j in range(cm.shape[1]):\n",
    "            ax.text(j, i, format(cm[i, j], fmt),\n",
    "                    ha=\"center\", va=\"center\",\n",
    "                    color=\"white\" if cm[i, j] > thresh else \"black\")\n",
    "    fig.tight_layout()\n",
    "    return ax\n",
    "\n",
    "\n",
    "np.set_printoptions(precision=2)\n",
    "\n",
    "# Plot non-normalized confusion matrix\n",
    "plot_confusion_matrix(y_test, y_pred, classes=class_names,\n",
    "                      title='Confusion matrix, without normalization')\n",
    "\n",
    "# Plot normalized confusion matrix\n",
    "plot_confusion_matrix(y_test, y_pred, classes=class_names, normalize=True,\n",
    "                      title='Normalized confusion matrix')\n",
    "\n",
    "plt.show()"
   ]
  }
 ],
 "metadata": {
  "kernelspec": {
   "display_name": "Python 3",
   "language": "python",
   "name": "python3"
  },
  "language_info": {
   "codemirror_mode": {
    "name": "ipython",
    "version": 3
   },
   "file_extension": ".py",
   "mimetype": "text/x-python",
   "name": "python",
   "nbconvert_exporter": "python",
   "pygments_lexer": "ipython3",
   "version": "3.6.5"
  }
 },
 "nbformat": 4,
 "nbformat_minor": 2
}
