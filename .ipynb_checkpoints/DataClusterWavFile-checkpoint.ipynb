{
 "cells": [
  {
   "cell_type": "code",
   "execution_count": 32,
   "metadata": {},
   "outputs": [],
   "source": [
    "import numpy as np\n",
    "import pylab as pl\n",
    "from mpl_toolkits.mplot3d import Axes3D\n",
    "\n",
    "from sklearn.cluster import KMeans\n",
    "from sklearn import datasets"
   ]
  },
  {
   "cell_type": "code",
   "execution_count": 33,
   "metadata": {},
   "outputs": [
    {
     "data": {
      "text/html": [
       "<div>\n",
       "<style scoped>\n",
       "    .dataframe tbody tr th:only-of-type {\n",
       "        vertical-align: middle;\n",
       "    }\n",
       "\n",
       "    .dataframe tbody tr th {\n",
       "        vertical-align: top;\n",
       "    }\n",
       "\n",
       "    .dataframe thead th {\n",
       "        text-align: right;\n",
       "    }\n",
       "</style>\n",
       "<table border=\"1\" class=\"dataframe\">\n",
       "  <thead>\n",
       "    <tr style=\"text-align: right;\">\n",
       "      <th></th>\n",
       "      <th>filename</th>\n",
       "      <th>chroma_stft</th>\n",
       "      <th>rmse</th>\n",
       "      <th>spectral_centroid</th>\n",
       "      <th>spectral_bandwidth</th>\n",
       "      <th>rolloff</th>\n",
       "      <th>zero_crossing_rate</th>\n",
       "      <th>mfcc1</th>\n",
       "      <th>mfcc2</th>\n",
       "      <th>mfcc3</th>\n",
       "      <th>...</th>\n",
       "      <th>mfcc12</th>\n",
       "      <th>mfcc13</th>\n",
       "      <th>mfcc14</th>\n",
       "      <th>mfcc15</th>\n",
       "      <th>mfcc16</th>\n",
       "      <th>mfcc17</th>\n",
       "      <th>mfcc18</th>\n",
       "      <th>mfcc19</th>\n",
       "      <th>mfcc20</th>\n",
       "      <th>label</th>\n",
       "    </tr>\n",
       "  </thead>\n",
       "  <tbody>\n",
       "    <tr>\n",
       "      <th>0</th>\n",
       "      <td>blues.00000.wav</td>\n",
       "      <td>0.349990</td>\n",
       "      <td>0.130226</td>\n",
       "      <td>1777.622262</td>\n",
       "      <td>0.349990</td>\n",
       "      <td>3793.610394</td>\n",
       "      <td>0.083018</td>\n",
       "      <td>-114.124756</td>\n",
       "      <td>122.296272</td>\n",
       "      <td>-19.881247</td>\n",
       "      <td>...</td>\n",
       "      <td>8.950809</td>\n",
       "      <td>-3.716766</td>\n",
       "      <td>5.700787</td>\n",
       "      <td>-5.022470</td>\n",
       "      <td>0.535928</td>\n",
       "      <td>-1.405333</td>\n",
       "      <td>-0.770950</td>\n",
       "      <td>-1.867216</td>\n",
       "      <td>0.726691</td>\n",
       "      <td>blues</td>\n",
       "    </tr>\n",
       "    <tr>\n",
       "      <th>1</th>\n",
       "      <td>blues.00001.wav</td>\n",
       "      <td>0.341012</td>\n",
       "      <td>0.095935</td>\n",
       "      <td>1524.012083</td>\n",
       "      <td>0.341012</td>\n",
       "      <td>3534.295295</td>\n",
       "      <td>0.055981</td>\n",
       "      <td>-207.849747</td>\n",
       "      <td>124.415886</td>\n",
       "      <td>8.530385</td>\n",
       "      <td>...</td>\n",
       "      <td>5.440571</td>\n",
       "      <td>-2.250589</td>\n",
       "      <td>4.166593</td>\n",
       "      <td>-5.910428</td>\n",
       "      <td>0.796328</td>\n",
       "      <td>-0.540235</td>\n",
       "      <td>0.076023</td>\n",
       "      <td>-0.027564</td>\n",
       "      <td>0.238245</td>\n",
       "      <td>blues</td>\n",
       "    </tr>\n",
       "    <tr>\n",
       "      <th>2</th>\n",
       "      <td>blues.00002.wav</td>\n",
       "      <td>0.363630</td>\n",
       "      <td>0.175585</td>\n",
       "      <td>1548.210862</td>\n",
       "      <td>0.363630</td>\n",
       "      <td>3032.714995</td>\n",
       "      <td>0.076282</td>\n",
       "      <td>-91.328018</td>\n",
       "      <td>141.263138</td>\n",
       "      <td>-29.895861</td>\n",
       "      <td>...</td>\n",
       "      <td>5.959805</td>\n",
       "      <td>-8.979352</td>\n",
       "      <td>-1.115788</td>\n",
       "      <td>-9.090822</td>\n",
       "      <td>2.247295</td>\n",
       "      <td>-7.440529</td>\n",
       "      <td>-2.182649</td>\n",
       "      <td>-2.988307</td>\n",
       "      <td>-2.738291</td>\n",
       "      <td>blues</td>\n",
       "    </tr>\n",
       "    <tr>\n",
       "      <th>3</th>\n",
       "      <td>blues.00003.wav</td>\n",
       "      <td>0.404791</td>\n",
       "      <td>0.141238</td>\n",
       "      <td>1066.077607</td>\n",
       "      <td>0.404791</td>\n",
       "      <td>2177.695165</td>\n",
       "      <td>0.033288</td>\n",
       "      <td>-199.578796</td>\n",
       "      <td>150.304657</td>\n",
       "      <td>5.445837</td>\n",
       "      <td>...</td>\n",
       "      <td>6.103318</td>\n",
       "      <td>-2.462841</td>\n",
       "      <td>-1.126237</td>\n",
       "      <td>-2.793778</td>\n",
       "      <td>0.684040</td>\n",
       "      <td>-3.204532</td>\n",
       "      <td>0.503686</td>\n",
       "      <td>-0.461397</td>\n",
       "      <td>-3.583985</td>\n",
       "      <td>blues</td>\n",
       "    </tr>\n",
       "    <tr>\n",
       "      <th>4</th>\n",
       "      <td>blues.00004.wav</td>\n",
       "      <td>0.308612</td>\n",
       "      <td>0.091554</td>\n",
       "      <td>1832.850030</td>\n",
       "      <td>0.308612</td>\n",
       "      <td>3577.128370</td>\n",
       "      <td>0.101515</td>\n",
       "      <td>-160.425400</td>\n",
       "      <td>126.420204</td>\n",
       "      <td>-35.821861</td>\n",
       "      <td>...</td>\n",
       "      <td>-2.798175</td>\n",
       "      <td>-6.910803</td>\n",
       "      <td>-7.622658</td>\n",
       "      <td>-9.079248</td>\n",
       "      <td>-4.623607</td>\n",
       "      <td>-5.325811</td>\n",
       "      <td>-1.073966</td>\n",
       "      <td>-4.235720</td>\n",
       "      <td>-11.893796</td>\n",
       "      <td>blues</td>\n",
       "    </tr>\n",
       "  </tbody>\n",
       "</table>\n",
       "<p>5 rows × 28 columns</p>\n",
       "</div>"
      ],
      "text/plain": [
       "          filename  chroma_stft      rmse  spectral_centroid  \\\n",
       "0  blues.00000.wav     0.349990  0.130226        1777.622262   \n",
       "1  blues.00001.wav     0.341012  0.095935        1524.012083   \n",
       "2  blues.00002.wav     0.363630  0.175585        1548.210862   \n",
       "3  blues.00003.wav     0.404791  0.141238        1066.077607   \n",
       "4  blues.00004.wav     0.308612  0.091554        1832.850030   \n",
       "\n",
       "   spectral_bandwidth      rolloff  zero_crossing_rate       mfcc1  \\\n",
       "0            0.349990  3793.610394            0.083018 -114.124756   \n",
       "1            0.341012  3534.295295            0.055981 -207.849747   \n",
       "2            0.363630  3032.714995            0.076282  -91.328018   \n",
       "3            0.404791  2177.695165            0.033288 -199.578796   \n",
       "4            0.308612  3577.128370            0.101515 -160.425400   \n",
       "\n",
       "        mfcc2      mfcc3  ...      mfcc12    mfcc13    mfcc14    mfcc15  \\\n",
       "0  122.296272 -19.881247  ...    8.950809 -3.716766  5.700787 -5.022470   \n",
       "1  124.415886   8.530385  ...    5.440571 -2.250589  4.166593 -5.910428   \n",
       "2  141.263138 -29.895861  ...    5.959805 -8.979352 -1.115788 -9.090822   \n",
       "3  150.304657   5.445837  ...    6.103318 -2.462841 -1.126237 -2.793778   \n",
       "4  126.420204 -35.821861  ...   -2.798175 -6.910803 -7.622658 -9.079248   \n",
       "\n",
       "     mfcc16    mfcc17    mfcc18    mfcc19     mfcc20  label  \n",
       "0  0.535928 -1.405333 -0.770950 -1.867216   0.726691  blues  \n",
       "1  0.796328 -0.540235  0.076023 -0.027564   0.238245  blues  \n",
       "2  2.247295 -7.440529 -2.182649 -2.988307  -2.738291  blues  \n",
       "3  0.684040 -3.204532  0.503686 -0.461397  -3.583985  blues  \n",
       "4 -4.623607 -5.325811 -1.073966 -4.235720 -11.893796  blues  \n",
       "\n",
       "[5 rows x 28 columns]"
      ]
     },
     "execution_count": 33,
     "metadata": {},
     "output_type": "execute_result"
    }
   ],
   "source": [
    "import pandas as pd\n",
    "from matplotlib import pyplot as plt\n",
    "data=pd.read_csv(\"data_test.csv\",encoding = \"ISO-8859-1\")\n",
    "data.head()"
   ]
  },
  {
   "cell_type": "code",
   "execution_count": 34,
   "metadata": {},
   "outputs": [
    {
     "data": {
      "text/plain": [
       "(1000, 28)"
      ]
     },
     "execution_count": 34,
     "metadata": {},
     "output_type": "execute_result"
    }
   ],
   "source": [
    "data.shape"
   ]
  },
  {
   "cell_type": "code",
   "execution_count": 35,
   "metadata": {},
   "outputs": [
    {
     "data": {
      "text/plain": [
       "filename              0\n",
       "chroma_stft           0\n",
       "rmse                  0\n",
       "spectral_centroid     0\n",
       "spectral_bandwidth    0\n",
       "rolloff               0\n",
       "zero_crossing_rate    0\n",
       "mfcc1                 0\n",
       "mfcc2                 0\n",
       "mfcc3                 0\n",
       "mfcc4                 0\n",
       "mfcc5                 0\n",
       "mfcc6                 0\n",
       "mfcc7                 0\n",
       "mfcc8                 0\n",
       "mfcc9                 0\n",
       "mfcc10                0\n",
       "mfcc11                0\n",
       "mfcc12                0\n",
       "mfcc13                0\n",
       "mfcc14                0\n",
       "mfcc15                0\n",
       "mfcc16                0\n",
       "mfcc17                0\n",
       "mfcc18                0\n",
       "mfcc19                0\n",
       "mfcc20                0\n",
       "label                 0\n",
       "dtype: int64"
      ]
     },
     "execution_count": 35,
     "metadata": {},
     "output_type": "execute_result"
    }
   ],
   "source": [
    "data.isnull().sum()"
   ]
  },
  {
   "cell_type": "code",
   "execution_count": 36,
   "metadata": {},
   "outputs": [],
   "source": [
    "summary=data.describe()"
   ]
  },
  {
   "cell_type": "code",
   "execution_count": 37,
   "metadata": {},
   "outputs": [
    {
     "data": {
      "text/html": [
       "<div>\n",
       "<style scoped>\n",
       "    .dataframe tbody tr th:only-of-type {\n",
       "        vertical-align: middle;\n",
       "    }\n",
       "\n",
       "    .dataframe tbody tr th {\n",
       "        vertical-align: top;\n",
       "    }\n",
       "\n",
       "    .dataframe thead th {\n",
       "        text-align: right;\n",
       "    }\n",
       "</style>\n",
       "<table border=\"1\" class=\"dataframe\">\n",
       "  <thead>\n",
       "    <tr style=\"text-align: right;\">\n",
       "      <th></th>\n",
       "      <th>count</th>\n",
       "      <th>mean</th>\n",
       "      <th>std</th>\n",
       "      <th>min</th>\n",
       "      <th>25%</th>\n",
       "      <th>50%</th>\n",
       "      <th>75%</th>\n",
       "      <th>max</th>\n",
       "    </tr>\n",
       "  </thead>\n",
       "  <tbody>\n",
       "    <tr>\n",
       "      <th>chroma_stft</th>\n",
       "      <td>1000.0</td>\n",
       "      <td>0.378434</td>\n",
       "      <td>0.081592</td>\n",
       "      <td>0.171816</td>\n",
       "      <td>0.319448</td>\n",
       "      <td>0.382842</td>\n",
       "      <td>0.435586</td>\n",
       "      <td>0.663573</td>\n",
       "    </tr>\n",
       "    <tr>\n",
       "      <th>rmse</th>\n",
       "      <td>1000.0</td>\n",
       "      <td>0.130746</td>\n",
       "      <td>0.065470</td>\n",
       "      <td>0.005276</td>\n",
       "      <td>0.086634</td>\n",
       "      <td>0.122045</td>\n",
       "      <td>0.175666</td>\n",
       "      <td>0.397869</td>\n",
       "    </tr>\n",
       "    <tr>\n",
       "      <th>spectral_centroid</th>\n",
       "      <td>1000.0</td>\n",
       "      <td>2120.754615</td>\n",
       "      <td>646.735603</td>\n",
       "      <td>567.781110</td>\n",
       "      <td>1601.475283</td>\n",
       "      <td>2157.206406</td>\n",
       "      <td>2599.063683</td>\n",
       "      <td>4434.439444</td>\n",
       "    </tr>\n",
       "    <tr>\n",
       "      <th>spectral_bandwidth</th>\n",
       "      <td>1000.0</td>\n",
       "      <td>0.378434</td>\n",
       "      <td>0.081592</td>\n",
       "      <td>0.171816</td>\n",
       "      <td>0.319448</td>\n",
       "      <td>0.382842</td>\n",
       "      <td>0.435586</td>\n",
       "      <td>0.663573</td>\n",
       "    </tr>\n",
       "    <tr>\n",
       "      <th>rolloff</th>\n",
       "      <td>1000.0</td>\n",
       "      <td>4393.585486</td>\n",
       "      <td>1403.071962</td>\n",
       "      <td>729.920586</td>\n",
       "      <td>3312.615386</td>\n",
       "      <td>4558.730767</td>\n",
       "      <td>5369.613364</td>\n",
       "      <td>8250.425111</td>\n",
       "    </tr>\n",
       "  </tbody>\n",
       "</table>\n",
       "</div>"
      ],
      "text/plain": [
       "                     count         mean          std         min          25%  \\\n",
       "chroma_stft         1000.0     0.378434     0.081592    0.171816     0.319448   \n",
       "rmse                1000.0     0.130746     0.065470    0.005276     0.086634   \n",
       "spectral_centroid   1000.0  2120.754615   646.735603  567.781110  1601.475283   \n",
       "spectral_bandwidth  1000.0     0.378434     0.081592    0.171816     0.319448   \n",
       "rolloff             1000.0  4393.585486  1403.071962  729.920586  3312.615386   \n",
       "\n",
       "                            50%          75%          max  \n",
       "chroma_stft            0.382842     0.435586     0.663573  \n",
       "rmse                   0.122045     0.175666     0.397869  \n",
       "spectral_centroid   2157.206406  2599.063683  4434.439444  \n",
       "spectral_bandwidth     0.382842     0.435586     0.663573  \n",
       "rolloff             4558.730767  5369.613364  8250.425111  "
      ]
     },
     "execution_count": 37,
     "metadata": {},
     "output_type": "execute_result"
    }
   ],
   "source": [
    "summary=summary.transpose()\n",
    "summary.head()"
   ]
  },
  {
   "cell_type": "code",
   "execution_count": 38,
   "metadata": {},
   "outputs": [
    {
     "data": {
      "text/plain": [
       "<matplotlib.axes._subplots.AxesSubplot at 0x1e7c9609048>"
      ]
     },
     "execution_count": 38,
     "metadata": {},
     "output_type": "execute_result"
    },
    {
     "data": {
      "image/png": "[encoded data removed]",
      "text/plain": [
       "<Figure size 1152x648 with 1 Axes>"
      ]
     },
     "metadata": {},
     "output_type": "display_data"
    }
   ],
   "source": [
    "data[\"rmse\"].plot.hist()"
   ]
  },
  {
   "cell_type": "code",
   "execution_count": 39,
   "metadata": {},
   "outputs": [
    {
     "data": {
      "text/plain": [
       "<matplotlib.axes._subplots.AxesSubplot at 0x1e7c9509940>"
      ]
     },
     "execution_count": 39,
     "metadata": {},
     "output_type": "execute_result"
    },
    {
     "data": {
      "image/png": "[encoded data removed]",
      "text/plain": [
       "<Figure size 1152x648 with 1 Axes>"
      ]
     },
     "metadata": {},
     "output_type": "display_data"
    }
   ],
   "source": [
    "data[\"rolloff\"].plot.hist()"
   ]
  },
  {
   "cell_type": "code",
   "execution_count": 40,
   "metadata": {},
   "outputs": [
    {
     "data": {
      "text/plain": [
       "<matplotlib.axes._subplots.AxesSubplot at 0x1e7c733f828>"
      ]
     },
     "execution_count": 40,
     "metadata": {},
     "output_type": "execute_result"
    },
    {
     "data": {
      "image/png": "[encoded data removed]",
      "text/plain": [
       "<Figure size 1152x648 with 1 Axes>"
      ]
     },
     "metadata": {},
     "output_type": "display_data"
    }
   ],
   "source": [
    "data[\"spectral_centroid\"].plot.hist()"
   ]
  },
  {
   "cell_type": "code",
   "execution_count": 41,
   "metadata": {},
   "outputs": [
    {
     "data": {
      "text/plain": [
       "<matplotlib.axes._subplots.AxesSubplot at 0x1e7c9667668>"
      ]
     },
     "execution_count": 41,
     "metadata": {},
     "output_type": "execute_result"
    },
    {
     "data": {
      "image/png": "[encoded data removed]",
      "text/plain": [
       "<Figure size 1152x648 with 1 Axes>"
      ]
     },
     "metadata": {},
     "output_type": "display_data"
    }
   ],
   "source": [
    "data[\"spectral_bandwidth\"].plot.hist()"
   ]
  },
  {
   "cell_type": "code",
   "execution_count": 42,
   "metadata": {},
   "outputs": [
    {
     "data": {
      "text/plain": [
       "<matplotlib.axes._subplots.AxesSubplot at 0x1e7c9b16d68>"
      ]
     },
     "execution_count": 42,
     "metadata": {},
     "output_type": "execute_result"
    },
    {
     "data": {
      "image/png": "[encoded data removed]",
      "text/plain": [
       "<Figure size 1152x648 with 1 Axes>"
      ]
     },
     "metadata": {},
     "output_type": "display_data"
    }
   ],
   "source": [
    "data[\"chroma_stft\"].plot.hist()"
   ]
  },
  {
   "cell_type": "code",
   "execution_count": 43,
   "metadata": {},
   "outputs": [
    {
     "data": {
      "text/plain": [
       "<matplotlib.collections.PathCollection at 0x1e7c9bbc6d8>"
      ]
     },
     "execution_count": 43,
     "metadata": {},
     "output_type": "execute_result"
    },
    {
     "data": {
      "image/png": "[encoded data removed]",
      "text/plain": [
       "<Figure size 1152x648 with 1 Axes>"
      ]
     },
     "metadata": {},
     "output_type": "display_data"
    }
   ],
   "source": [
    "x=data.iloc[:,[2,4]].values\n",
    "\n",
    "plt.rcParams['figure.figsize'] = (16, 9)\n",
    "plt.style.use('ggplot')\n",
    "plt.scatter(x[:,0],x[:,1], c='black', s=7)##Unclustered Data"
   ]
  },
  {
   "cell_type": "code",
   "execution_count": 44,
   "metadata": {},
   "outputs": [],
   "source": [
    "from scipy import stats\n",
    "x=x[(np.abs(stats.zscore(x)) < 3).all(axis=1)]#Use z-score to delete the outliers in the collection"
   ]
  },
  {
   "cell_type": "code",
   "execution_count": 45,
   "metadata": {},
   "outputs": [
    {
     "data": {
      "text/plain": [
       "(995, 2)"
      ]
     },
     "execution_count": 45,
     "metadata": {},
     "output_type": "execute_result"
    }
   ],
   "source": [
    "x.shape#Deletes 5 pieces of data"
   ]
  },
  {
   "cell_type": "code",
   "execution_count": 46,
   "metadata": {},
   "outputs": [],
   "source": [
    "import numpy as np\n",
    "import pandas as pd\n",
    "from copy import deepcopy\n",
    "import matplotlib.pyplot as plt\n",
    "\n",
    "def euclidean(a,b):\n",
    "    return np.linalg.norm(a-b)#Calculates the distance between 2 points a and b"
   ]
  },
  {
   "cell_type": "code",
   "execution_count": null,
   "metadata": {},
   "outputs": [],
   "source": [
    "def main():\n",
    "    #Step 1: choosing random value of k centroids from the values present in dataset\n",
    "    #2d array with 2 centroids from x randomly, k=2\n",
    "    centroid=x[np.random.choice(x.shape[0],2, replace=False)]\n",
    "    \n",
    "    print(\"Centroids are:\",centroid)\n",
    "\n",
    "    total=x.shape#Shape value of x\n",
    "    distance_1=np.zeros(total[0])#Distances from each point in data to centroid 1\n",
    "    distance_2=np.zeros(total[0])#Distances from each point in data to centroid 2\n",
    "    belongs_to=np.zeros(total[0])#Stores the values of clusters, the data point belongs to.\n",
    "    c_old=np.zeros(centroid.shape)#stores the values of centroids\n",
    "    error=euclidean(centroid,c_old)#Stores the Euclidean siatance of the current centroid and old centroid\n",
    "    mean=np.zeros(centroid.shape)#Initializes the given array to zero by passing the size as a parameter\n",
    "    iterator=0#Counts the iterations performed\n",
    "\n",
    "#Step 2: Calculate euclidean distance for each point with each centroid\n",
    "while error!=0:\n",
    "    print(\"Iteration\",iterator+1,\":\")\n",
    "    for i in range(total[0]):\n",
    "        distance_1[i]=euclidean(x[i],centroid[0])\n",
    "        #Print(\"Distance of point\",x[i],\"with centroid 1:\",distance_1[i])\n",
    "        distance_2[i]=euclidean(x[i],centroid[1])\n",
    "        #Print(\"Distance of point\",x[i],\"with centroid 2:\",distance_2[i])\n",
    "        \n",
    "    #Step 2: comparing the distance and assigning clusters\n",
    "    if(distance_1[i]<distance_2[i]):\n",
    "        belongs_to[i]=0\n",
    "        #print(\"Point\",x[i],\" is in clusters 1.\")\n",
    "    if(distance_2[i]>distance_2[i]):\n",
    "        belongs_to[i]=1\n",
    "        #print(\"Point\",x[i],\" is in clusters 2.\")\n",
    "    \n",
    "#Step 4: Taking mean and repeat\n",
    "c_old=deepcopy(centroid)\n",
    "for i in range(len(belongs_to)):\n",
    "    if belongs_to[i]==0:\n",
    "        mean[0][0]=np.mean(x[i][0])\n",
    "        mean[0][1]=np.mean(x[i][1])\n",
    "    else:\n",
    "        continue\n",
    "\n",
    "print(\"New Centroid for cluster 1:\",mean[0])\n",
    "\n",
    "for i in range(len(belongs_to)):\n",
    "    if belongs_to[i]==1:\n",
    "        mean[1][0]=np.mean(x[i][0])\n",
    "        mean[1][1]=np.mean(x[i][1])\n",
    "    else:\n",
    "        continue\n",
    "\n",
    "print(\"New Centroid for cluster 1:\",mean[1])\n",
    "\n",
    "    centroid[0]=mean[0]\n",
    "    centroid[1]=mean[1]\n",
    "    error=euclidean(centroid,c_old)\n",
    "    iterator+=1\n",
    "    if error==0:\n",
    "        print(\"Same centroids again!\")\n",
    "\n",
    "    plt.rcParams['figure.figsize'] = (16,9)\n",
    "    plt.style.use('ggplot')\n",
    "    colors = {'r', 'g'}\n",
    "    fig, ax = plt.subplots()\n",
    "    for i in range(2):\n",
    "        points = np.array([x[j] for j in range(len(x)) if belongs_to[j] == i])\n",
    "        ax.scatter(points[: 0], points[:, 1], s=7, c=colors[i])\n",
    "    ax.scatter(centroid[: 0], centroid[:, 1], marker='*', s=200, c='#050505')\n",
    "\n",
    "if _name_==\"_main_\":\n",
    "    main()"
   ]
  },
  {
   "cell_type": "code",
   "execution_count": null,
   "metadata": {},
   "outputs": [],
   "source": []
  }
 ],
 "metadata": {
  "kernelspec": {
   "display_name": "Python 3",
   "language": "python",
   "name": "python3"
  },
  "language_info": {
   "codemirror_mode": {
    "name": "ipython",
    "version": 3
   },
   "file_extension": ".py",
   "mimetype": "text/x-python",
   "name": "python",
   "nbconvert_exporter": "python",
   "pygments_lexer": "ipython3",
   "version": "3.6.5"
  }
 },
 "nbformat": 4,
 "nbformat_minor": 2
}
