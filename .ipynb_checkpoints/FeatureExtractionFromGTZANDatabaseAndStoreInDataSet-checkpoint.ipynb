{
 "cells": [
  {
   "cell_type": "code",
   "execution_count": 1,
   "metadata": {},
   "outputs": [
    {
     "name": "stderr",
     "output_type": "stream",
     "text": [
      "C:\\Program Files (x86)\\Microsoft Visual Studio\\Shared\\Anaconda3_64\\lib\\site-packages\\h5py\\__init__.py:36: FutureWarning: Conversion of the second argument of issubdtype from `float` to `np.floating` is deprecated. In future, it will be treated as `np.float64 == np.dtype(float).type`.\n",
      "  from ._conv import register_converters as _register_converters\n",
      "Using TensorFlow backend.\n"
     ]
    }
   ],
   "source": [
    "#Importing all the packages we will need\n",
    "#Note Keras and tensorflow were installed seperately \n",
    "#through the anaconda command line and then imported here\n",
    "import librosa\n",
    "import pandas as pd\n",
    "import numpy as np\n",
    "import matplotlib.pyplot as plt\n",
    "%matplotlib inline\n",
    "import os\n",
    "import csv\n",
    "\n",
    "#Preprocessing\n",
    "from sklearn.model_selection import train_test_split\n",
    "from sklearn.preprocessing import LabelEncoder, StandardScaler\n",
    "\n",
    "#Keras\n",
    "import keras"
   ]
  },
  {
   "cell_type": "code",
   "execution_count": 2,
   "metadata": {},
   "outputs": [],
   "source": [
    "#We’ll process dataset as per our requirements. \n",
    "#We’ll create a CSV file with the data we required.\n",
    "header = 'Filename Chromagram RootMeanSquare LowEnergyBrightness SpectralCentroid Flatness Bandwidth InHarmonicity Rolloff ZeroCrossingRate'\n",
    "for i in range(1,21):\n",
    "        header += f' mfcc{i}'\n",
    "header += ' label'\n",
    "header = header.split()"
   ]
  },
  {
   "cell_type": "code",
   "execution_count": null,
   "metadata": {},
   "outputs": [
    {
     "name": "stderr",
     "output_type": "stream",
     "text": [
      "C:\\Program Files (x86)\\Microsoft Visual Studio\\Shared\\Anaconda3_64\\lib\\site-packages\\scipy\\sparse\\lil.py:514: FutureWarning: future versions will not create a writeable array from broadcast_array. Set the writable flag explicitly to avoid this warning.\n",
      "  if not j.flags.writeable or j.dtype not in (np.int32, np.int64):\n",
      "C:\\Program Files (x86)\\Microsoft Visual Studio\\Shared\\Anaconda3_64\\lib\\site-packages\\scipy\\sparse\\lil.py:514: FutureWarning: future versions will not create a writeable array from broadcast_array. Set the writable flag explicitly to avoid this warning.\n",
      "  if not j.flags.writeable or j.dtype not in (np.int32, np.int64):\n"
     ]
    }
   ],
   "source": [
    "#If you have read the blog of features extraction \n",
    "#we’ll get 20 mfcc for given sampling rate because\n",
    "#it is calculated for each frame so mfcc has 20 columns.\n",
    "#Now, we’ll calculate all the features.\n",
    "file = open('data_test_two.csv', 'w', newline='')\n",
    "with file:\n",
    "    writer = csv.writer(file)\n",
    "    writer.writerow(header)\n",
    "genres = 'blues classical country disco hiphop jazz metal pop reggae rock'.split()\n",
    "for g in genres:\n",
    "    for filename in os.listdir(f'./genres/{g}'):\n",
    "        songname = f'./genres/{g}/{filename}'\n",
    "        y, sr = librosa.load(songname, mono=True, duration=30)\n",
    "        y = librosa.effects.harmonic(y)\n",
    "        chroma_stft = librosa.feature.chroma_stft(y=y, sr=sr)#chromagram\n",
    "        rms = librosa.feature.rms(y=y)#root-mean square\n",
    "        spec_cont = librosa.feature.spectral_contrast(y=y, sr=sr)#low energy/brightness\n",
    "        spec_cent = librosa.feature.spectral_centroid(y=y, sr=sr)#spectral centroid\n",
    "        spec_flat = librosa.feature.spectral_flatness(y=y)#flatness\n",
    "        spec_bw = librosa.feature.spectral_bandwidth(y=y, sr=sr)#bandwidth\n",
    "        tone = librosa.feature.tonnetz(y=y, sr=sr)#In-Harmonicity\n",
    "        rolloff = librosa.feature.spectral_rolloff(y=y, sr=sr)#rolloff\n",
    "        zcr = librosa.feature.zero_crossing_rate(y)#zero-crossing rate\n",
    "        mfcc = librosa.feature.mfcc(y=y, sr=sr)\n",
    "        to_append = f'{filename} {np.mean(chroma_stft)} {np.mean(rms)} {np.mean(spec_cont)} {np.mean(spec_cent)} {np.mean(spec_flat)} {np.mean(spec_bw)} {np.mean(tone)} {np.mean(rolloff)} {np.mean(zcr)}'\n",
    "        for e in mfcc:\n",
    "            to_append += f' {np.mean(e)}'\n",
    "        to_append += f' {g}'\n",
    "        file = open('data_test_two.csv', 'a', newline='')\n",
    "        with file:\n",
    "            writer = csv.writer(file)\n",
    "            writer.writerow(to_append.split())"
   ]
  },
  {
   "cell_type": "code",
   "execution_count": null,
   "metadata": {},
   "outputs": [],
   "source": [
    "#Reading a dataset\n",
    "data = pd.read_csv('data_test_two.csv')\n",
    "#data.shape\n",
    "data"
   ]
  },
  {
   "cell_type": "code",
   "execution_count": 23,
   "metadata": {},
   "outputs": [
    {
     "data": {
      "text/html": [
       "<div>\n",
       "<style scoped>\n",
       "    .dataframe tbody tr th:only-of-type {\n",
       "        vertical-align: middle;\n",
       "    }\n",
       "\n",
       "    .dataframe tbody tr th {\n",
       "        vertical-align: top;\n",
       "    }\n",
       "\n",
       "    .dataframe thead th {\n",
       "        text-align: right;\n",
       "    }\n",
       "</style>\n",
       "<table border=\"1\" class=\"dataframe\">\n",
       "  <thead>\n",
       "    <tr style=\"text-align: right;\">\n",
       "      <th></th>\n",
       "      <th>chroma_stft</th>\n",
       "      <th>rmse</th>\n",
       "      <th>spectral_centroid</th>\n",
       "      <th>spectral_bandwidth</th>\n",
       "      <th>rolloff</th>\n",
       "      <th>zero_crossing_rate</th>\n",
       "      <th>mfcc1</th>\n",
       "      <th>mfcc2</th>\n",
       "      <th>mfcc3</th>\n",
       "      <th>mfcc4</th>\n",
       "      <th>...</th>\n",
       "      <th>mfcc12</th>\n",
       "      <th>mfcc13</th>\n",
       "      <th>mfcc14</th>\n",
       "      <th>mfcc15</th>\n",
       "      <th>mfcc16</th>\n",
       "      <th>mfcc17</th>\n",
       "      <th>mfcc18</th>\n",
       "      <th>mfcc19</th>\n",
       "      <th>mfcc20</th>\n",
       "      <th>label</th>\n",
       "    </tr>\n",
       "  </thead>\n",
       "  <tbody>\n",
       "    <tr>\n",
       "      <th>0</th>\n",
       "      <td>0.349990</td>\n",
       "      <td>0.130226</td>\n",
       "      <td>1777.622262</td>\n",
       "      <td>0.349990</td>\n",
       "      <td>3793.610394</td>\n",
       "      <td>0.083018</td>\n",
       "      <td>-114.124756</td>\n",
       "      <td>122.296272</td>\n",
       "      <td>-19.881247</td>\n",
       "      <td>43.043388</td>\n",
       "      <td>...</td>\n",
       "      <td>8.950809</td>\n",
       "      <td>-3.716766</td>\n",
       "      <td>5.700787</td>\n",
       "      <td>-5.022470</td>\n",
       "      <td>0.535928</td>\n",
       "      <td>-1.405333</td>\n",
       "      <td>-0.770950</td>\n",
       "      <td>-1.867216</td>\n",
       "      <td>0.726691</td>\n",
       "      <td>blues</td>\n",
       "    </tr>\n",
       "    <tr>\n",
       "      <th>1</th>\n",
       "      <td>0.341012</td>\n",
       "      <td>0.095935</td>\n",
       "      <td>1524.012083</td>\n",
       "      <td>0.341012</td>\n",
       "      <td>3534.295295</td>\n",
       "      <td>0.055981</td>\n",
       "      <td>-207.849747</td>\n",
       "      <td>124.415886</td>\n",
       "      <td>8.530385</td>\n",
       "      <td>36.257298</td>\n",
       "      <td>...</td>\n",
       "      <td>5.440571</td>\n",
       "      <td>-2.250589</td>\n",
       "      <td>4.166593</td>\n",
       "      <td>-5.910428</td>\n",
       "      <td>0.796328</td>\n",
       "      <td>-0.540235</td>\n",
       "      <td>0.076023</td>\n",
       "      <td>-0.027564</td>\n",
       "      <td>0.238245</td>\n",
       "      <td>blues</td>\n",
       "    </tr>\n",
       "    <tr>\n",
       "      <th>2</th>\n",
       "      <td>0.363630</td>\n",
       "      <td>0.175585</td>\n",
       "      <td>1548.210862</td>\n",
       "      <td>0.363630</td>\n",
       "      <td>3032.714995</td>\n",
       "      <td>0.076282</td>\n",
       "      <td>-91.328018</td>\n",
       "      <td>141.263138</td>\n",
       "      <td>-29.895861</td>\n",
       "      <td>32.443363</td>\n",
       "      <td>...</td>\n",
       "      <td>5.959805</td>\n",
       "      <td>-8.979352</td>\n",
       "      <td>-1.115788</td>\n",
       "      <td>-9.090822</td>\n",
       "      <td>2.247295</td>\n",
       "      <td>-7.440529</td>\n",
       "      <td>-2.182649</td>\n",
       "      <td>-2.988307</td>\n",
       "      <td>-2.738291</td>\n",
       "      <td>blues</td>\n",
       "    </tr>\n",
       "    <tr>\n",
       "      <th>3</th>\n",
       "      <td>0.404791</td>\n",
       "      <td>0.141238</td>\n",
       "      <td>1066.077607</td>\n",
       "      <td>0.404791</td>\n",
       "      <td>2177.695165</td>\n",
       "      <td>0.033288</td>\n",
       "      <td>-199.578796</td>\n",
       "      <td>150.304657</td>\n",
       "      <td>5.445837</td>\n",
       "      <td>27.064386</td>\n",
       "      <td>...</td>\n",
       "      <td>6.103318</td>\n",
       "      <td>-2.462841</td>\n",
       "      <td>-1.126237</td>\n",
       "      <td>-2.793778</td>\n",
       "      <td>0.684040</td>\n",
       "      <td>-3.204532</td>\n",
       "      <td>0.503686</td>\n",
       "      <td>-0.461397</td>\n",
       "      <td>-3.583985</td>\n",
       "      <td>blues</td>\n",
       "    </tr>\n",
       "    <tr>\n",
       "      <th>4</th>\n",
       "      <td>0.308612</td>\n",
       "      <td>0.091554</td>\n",
       "      <td>1832.850030</td>\n",
       "      <td>0.308612</td>\n",
       "      <td>3577.128370</td>\n",
       "      <td>0.101515</td>\n",
       "      <td>-160.425400</td>\n",
       "      <td>126.420204</td>\n",
       "      <td>-35.821861</td>\n",
       "      <td>22.358387</td>\n",
       "      <td>...</td>\n",
       "      <td>-2.798175</td>\n",
       "      <td>-6.910803</td>\n",
       "      <td>-7.622658</td>\n",
       "      <td>-9.079248</td>\n",
       "      <td>-4.623607</td>\n",
       "      <td>-5.325811</td>\n",
       "      <td>-1.073966</td>\n",
       "      <td>-4.235720</td>\n",
       "      <td>-11.893796</td>\n",
       "      <td>blues</td>\n",
       "    </tr>\n",
       "  </tbody>\n",
       "</table>\n",
       "<p>5 rows × 27 columns</p>\n",
       "</div>"
      ],
      "text/plain": [
       "   chroma_stft      rmse  spectral_centroid  spectral_bandwidth      rolloff  \\\n",
       "0     0.349990  0.130226        1777.622262            0.349990  3793.610394   \n",
       "1     0.341012  0.095935        1524.012083            0.341012  3534.295295   \n",
       "2     0.363630  0.175585        1548.210862            0.363630  3032.714995   \n",
       "3     0.404791  0.141238        1066.077607            0.404791  2177.695165   \n",
       "4     0.308612  0.091554        1832.850030            0.308612  3577.128370   \n",
       "\n",
       "   zero_crossing_rate       mfcc1       mfcc2      mfcc3      mfcc4  ...    \\\n",
       "0            0.083018 -114.124756  122.296272 -19.881247  43.043388  ...     \n",
       "1            0.055981 -207.849747  124.415886   8.530385  36.257298  ...     \n",
       "2            0.076282  -91.328018  141.263138 -29.895861  32.443363  ...     \n",
       "3            0.033288 -199.578796  150.304657   5.445837  27.064386  ...     \n",
       "4            0.101515 -160.425400  126.420204 -35.821861  22.358387  ...     \n",
       "\n",
       "     mfcc12    mfcc13    mfcc14    mfcc15    mfcc16    mfcc17    mfcc18  \\\n",
       "0  8.950809 -3.716766  5.700787 -5.022470  0.535928 -1.405333 -0.770950   \n",
       "1  5.440571 -2.250589  4.166593 -5.910428  0.796328 -0.540235  0.076023   \n",
       "2  5.959805 -8.979352 -1.115788 -9.090822  2.247295 -7.440529 -2.182649   \n",
       "3  6.103318 -2.462841 -1.126237 -2.793778  0.684040 -3.204532  0.503686   \n",
       "4 -2.798175 -6.910803 -7.622658 -9.079248 -4.623607 -5.325811 -1.073966   \n",
       "\n",
       "     mfcc19     mfcc20  label  \n",
       "0 -1.867216   0.726691  blues  \n",
       "1 -0.027564   0.238245  blues  \n",
       "2 -2.988307  -2.738291  blues  \n",
       "3 -0.461397  -3.583985  blues  \n",
       "4 -4.235720 -11.893796  blues  \n",
       "\n",
       "[5 rows x 27 columns]"
      ]
     },
     "execution_count": 23,
     "metadata": {},
     "output_type": "execute_result"
    }
   ],
   "source": [
    "# Dropping unneccesary columns\n",
    "data = data.drop(['filename'],axis=1) #Filename is not required\n",
    "data.head()"
   ]
  },
  {
   "cell_type": "code",
   "execution_count": 25,
   "metadata": {},
   "outputs": [
    {
     "name": "stdout",
     "output_type": "stream",
     "text": [
      "[0 0 0 0 0 0 0 0 0 0 0 0 0 0 0 0 0 0 0 0 0 0 0 0 0 0 0 0 0 0 0 0 0 0 0 0 0\n",
      " 0 0 0 0 0 0 0 0 0 0 0 0 0 0 0 0 0 0 0 0 0 0 0 0 0 0 0 0 0 0 0 0 0 0 0 0 0\n",
      " 0 0 0 0 0 0 0 0 0 0 0 0 0 0 0 0 0 0 0 0 0 0 0 0 0 0 1 1 1 1 1 1 1 1 1 1 1\n",
      " 1 1 1 1 1 1 1 1 1 1 1 1 1 1 1 1 1 1 1 1 1 1 1 1 1 1 1 1 1 1 1 1 1 1 1 1 1\n",
      " 1 1 1 1 1 1 1 1 1 1 1 1 1 1 1 1 1 1 1 1 1 1 1 1 1 1 1 1 1 1 1 1 1 1 1 1 1\n",
      " 1 1 1 1 1 1 1 1 1 1 1 1 1 1 1 2 2 2 2 2 2 2 2 2 2 2 2 2 2 2 2 2 2 2 2 2 2\n",
      " 2 2 2 2 2 2 2 2 2 2 2 2 2 2 2 2 2 2 2 2 2 2 2 2 2 2 2 2 2 2 2 2 2 2 2 2 2\n",
      " 2 2 2 2 2 2 2 2 2 2 2 2 2 2 2 2 2 2 2 2 2 2 2 2 2 2 2 2 2 2 2 2 2 2 2 2 2\n",
      " 2 2 2 2 3 3 3 3 3 3 3 3 3 3 3 3 3 3 3 3 3 3 3 3 3 3 3 3 3 3 3 3 3 3 3 3 3\n",
      " 3 3 3 3 3 3 3 3 3 3 3 3 3 3 3 3 3 3 3 3 3 3 3 3 3 3 3 3 3 3 3 3 3 3 3 3 3\n",
      " 3 3 3 3 3 3 3 3 3 3 3 3 3 3 3 3 3 3 3 3 3 3 3 3 3 3 3 3 3 3 4 4 4 4 4 4 4\n",
      " 4 4 4 4 4 4 4 4 4 4 4 4 4 4 4 4 4 4 4 4 4 4 4 4 4 4 4 4 4 4 4 4 4 4 4 4 4\n",
      " 4 4 4 4 4 4 4 4 4 4 4 4 4 4 4 4 4 4 4 4 4 4 4 4 4 4 4 4 4 4 4 4 4 4 4 4 4\n",
      " 4 4 4 4 4 4 4 4 4 4 4 4 4 4 4 4 4 4 4 5 5 5 5 5 5 5 5 5 5 5 5 5 5 5 5 5 5\n",
      " 5 5 5 5 5 5 5 5 5 5 5 5 5 5 5 5 5 5 5 5 5 5 5 5 5 5 5 5 5 5 5 5 5 5 5 5 5\n",
      " 5 5 5 5 5 5 5 5 5 5 5 5 5 5 5 5 5 5 5 5 5 5 5 5 5 5 5 5 5 5 5 5 5 5 5 5 5\n",
      " 5 5 5 5 5 5 5 5 6 6 6 6 6 6 6 6 6 6 6 6 6 6 6 6 6 6 6 6 6 6 6 6 6 6 6 6 6\n",
      " 6 6 6 6 6 6 6 6 6 6 6 6 6 6 6 6 6 6 6 6 6 6 6 6 6 6 6 6 6 6 6 6 6 6 6 6 6\n",
      " 6 6 6 6 6 6 6 6 6 6 6 6 6 6 6 6 6 6 6 6 6 6 6 6 6 6 6 6 6 6 6 6 6 6 7 7 7\n",
      " 7 7 7 7 7 7 7 7 7 7 7 7 7 7 7 7 7 7 7 7 7 7 7 7 7 7 7 7 7 7 7 7 7 7 7 7 7\n",
      " 7 7 7 7 7 7 7 7 7 7 7 7 7 7 7 7 7 7 7 7 7 7 7 7 7 7 7 7 7 7 7 7 7 7 7 7 7\n",
      " 7 7 7 7 7 7 7 7 7 7 7 7 7 7 7 7 7 7 7 7 7 7 7 8 8 8 8 8 8 8 8 8 8 8 8 8 8\n",
      " 8 8 8 8 8 8 8 8 8 8 8 8 8 8 8 8 8 8 8 8 8 8 8 8 8 8 8 8 8 8 8 8 8 8 8 8 8\n",
      " 8 8 8 8 8 8 8 8 8 8 8 8 8 8 8 8 8 8 8 8 8 8 8 8 8 8 8 8 8 8 8 8 8 8 8 8 8\n",
      " 8 8 8 8 8 8 8 8 8 8 8 8 9 9 9 9 9 9 9 9 9 9 9 9 9 9 9 9 9 9 9 9 9 9 9 9 9\n",
      " 9 9 9 9 9 9 9 9 9 9 9 9 9 9 9 9 9 9 9 9 9 9 9 9 9 9 9 9 9 9 9 9 9 9 9 9 9\n",
      " 9 9 9 9 9 9 9 9 9 9 9 9 9 9 9 9 9 9 9 9 9 9 9 9 9 9 9 9 9 9 9 9 9 9 9 9 9\n",
      " 9]\n"
     ]
    }
   ],
   "source": [
    "#Now, we’ll encode genres into integers\n",
    "genre_list = data.iloc[:, -1]\n",
    "encoder = LabelEncoder()\n",
    "y = encoder.fit_transform(genre_list)\n",
    "print(y)\n",
    "#Here, we created a mapping between genres and integers. \n",
    "#Each integer represents the specific genre."
   ]
  },
  {
   "cell_type": "code",
   "execution_count": 27,
   "metadata": {},
   "outputs": [],
   "source": [
    "#Normalizing the dataset\n",
    "scaler = StandardScaler()\n",
    "X = scaler.fit_transform(np.array(data.iloc[:, :-1], dtype = float))"
   ]
  },
  {
   "cell_type": "code",
   "execution_count": 37,
   "metadata": {},
   "outputs": [],
   "source": [
    "X_train, X_test, y_train, y_test = train_test_split(X, y, test_size=0.2)"
   ]
  },
  {
   "cell_type": "code",
   "execution_count": 42,
   "metadata": {},
   "outputs": [
    {
     "data": {
      "text/plain": [
       "800"
      ]
     },
     "execution_count": 42,
     "metadata": {},
     "output_type": "execute_result"
    }
   ],
   "source": [
    "len(X_train)"
   ]
  },
  {
   "cell_type": "code",
   "execution_count": 41,
   "metadata": {},
   "outputs": [
    {
     "data": {
      "text/plain": [
       "800"
      ]
     },
     "execution_count": 41,
     "metadata": {},
     "output_type": "execute_result"
    }
   ],
   "source": [
    "len(y_train)"
   ]
  },
  {
   "cell_type": "code",
   "execution_count": 40,
   "metadata": {},
   "outputs": [
    {
     "data": {
      "text/plain": [
       "200"
      ]
     },
     "execution_count": 40,
     "metadata": {},
     "output_type": "execute_result"
    }
   ],
   "source": [
    "len(X_test)"
   ]
  },
  {
   "cell_type": "code",
   "execution_count": 44,
   "metadata": {},
   "outputs": [
    {
     "data": {
      "text/plain": [
       "200"
      ]
     },
     "execution_count": 44,
     "metadata": {},
     "output_type": "execute_result"
    }
   ],
   "source": [
    "len(y_test)"
   ]
  },
  {
   "cell_type": "code",
   "execution_count": 51,
   "metadata": {},
   "outputs": [
    {
     "data": {
      "text/plain": [
       "array([-0.1526722 ,  0.88520053,  0.03613114, -0.1526722 ,  0.38840883,\n",
       "       -0.63549088,  0.49136129, -0.35698062,  0.7236401 ,  0.44013744,\n",
       "       -0.5240214 ,  0.4511319 ,  0.54904569,  0.54726858, -0.34994908,\n",
       "       -0.05625836,  0.35863136,  0.27861726,  0.13777474,  1.33501346,\n",
       "        0.02560469,  1.34641347, -0.03641568,  0.7037113 ,  0.22471961,\n",
       "        1.25141414])"
      ]
     },
     "execution_count": 51,
     "metadata": {},
     "output_type": "execute_result"
    }
   ],
   "source": [
    "X_train[10]"
   ]
  },
  {
   "cell_type": "code",
   "execution_count": 53,
   "metadata": {},
   "outputs": [],
   "source": [
    "#Creating a Model\n",
    "\n",
    "from keras import models\n",
    "from keras import layers\n",
    "\n",
    "model = models.Sequential()\n",
    "model.add(layers.Dense(256, activation='relu', input_shape=(X_train.shape[1],)))\n",
    "\n",
    "model.add(layers.Dense(128, activation='relu'))\n",
    "\n",
    "model.add(layers.Dense(64, activation='relu'))\n",
    "\n",
    "model.add(layers.Dense(10, activation='softmax'))\n",
    "#Using keras sequential model. \n",
    "#Layers 1 is an input layer, input size has to be given. Containing 256 neurons with an output space of 256 neurons.\n",
    "#Layer 2 and 3 are hidden layers.\n",
    "#Layer 4 is an output layer. Containing 10 neurons as we are classifying is into 10 genres."
   ]
  },
  {
   "cell_type": "code",
   "execution_count": 55,
   "metadata": {},
   "outputs": [],
   "source": [
    "model.compile(optimizer='adam', loss='sparse_categorical_crossentropy', metrics=['accuracy'])"
   ]
  },
  {
   "cell_type": "code",
   "execution_count": 57,
   "metadata": {},
   "outputs": [
    {
     "name": "stdout",
     "output_type": "stream",
     "text": [
      "Epoch 1/20\n",
      "800/800 [==============================] - 1s 2ms/step - loss: 2.1781 - accuracy: 0.1950\n",
      "Epoch 2/20\n",
      "800/800 [==============================] - 0s 16us/step - loss: 1.7992 - accuracy: 0.4175\n",
      "Epoch 3/20\n",
      "800/800 [==============================] - 0s 19us/step - loss: 1.5232 - accuracy: 0.4775\n",
      "Epoch 4/20\n",
      "800/800 [==============================] - 0s 17us/step - loss: 1.2976 - accuracy: 0.5462\n",
      "Epoch 5/20\n",
      "800/800 [==============================] - 0s 17us/step - loss: 1.1348 - accuracy: 0.5987\n",
      "Epoch 6/20\n",
      "800/800 [==============================] - 0s 19us/step - loss: 1.0050 - accuracy: 0.6438\n",
      "Epoch 7/20\n",
      "800/800 [==============================] - 0s 19us/step - loss: 0.9170 - accuracy: 0.6812\n",
      "Epoch 8/20\n",
      "800/800 [==============================] - 0s 20us/step - loss: 0.8451 - accuracy: 0.7113\n",
      "Epoch 9/20\n",
      "800/800 [==============================] - 0s 20us/step - loss: 0.7749 - accuracy: 0.7425\n",
      "Epoch 10/20\n",
      "800/800 [==============================] - 0s 24us/step - loss: 0.7232 - accuracy: 0.7650\n",
      "Epoch 11/20\n",
      "800/800 [==============================] - 0s 17us/step - loss: 0.6665 - accuracy: 0.7837\n",
      "Epoch 12/20\n",
      "800/800 [==============================] - 0s 16us/step - loss: 0.6215 - accuracy: 0.8050\n",
      "Epoch 13/20\n",
      "800/800 [==============================] - 0s 16us/step - loss: 0.5856 - accuracy: 0.8112\n",
      "Epoch 14/20\n",
      "800/800 [==============================] - 0s 17us/step - loss: 0.5644 - accuracy: 0.8163\n",
      "Epoch 15/20\n",
      "800/800 [==============================] - 0s 19us/step - loss: 0.5131 - accuracy: 0.8313\n",
      "Epoch 16/20\n",
      "800/800 [==============================] - 0s 17us/step - loss: 0.4842 - accuracy: 0.8525\n",
      "Epoch 17/20\n",
      "800/800 [==============================] - 0s 17us/step - loss: 0.4728 - accuracy: 0.8450\n",
      "Epoch 18/20\n",
      "800/800 [==============================] - 0s 16us/step - loss: 0.4422 - accuracy: 0.8625\n",
      "Epoch 19/20\n",
      "800/800 [==============================] - 0s 17us/step - loss: 0.4206 - accuracy: 0.8700\n",
      "Epoch 20/20\n",
      "800/800 [==============================] - 0s 19us/step - loss: 0.3923 - accuracy: 0.8750\n"
     ]
    }
   ],
   "source": [
    "history = model.fit(X_train, y_train, epochs=20, batch_size=128)\n",
    "#Using fit function we’ll train the model for given training input and output."
   ]
  },
  {
   "cell_type": "code",
   "execution_count": 58,
   "metadata": {},
   "outputs": [
    {
     "name": "stdout",
     "output_type": "stream",
     "text": [
      "200/200 [==============================] - 0s 95us/step\n",
      "test_acc:  0.7350000143051147\n"
     ]
    }
   ],
   "source": [
    "test_loss, test_acc = model.evaluate(X_test, y_test)\n",
    "print('test_acc: ',test_acc)\n",
    "#We’ll get the accuracy by the model can predict the genre of given music based on the features\n",
    "#extracted. This model achieved the accuracy of 67% which is not that good but we can modify the\n",
    "#model to achieve higher accuracy."
   ]
  },
  {
   "cell_type": "code",
   "execution_count": 59,
   "metadata": {},
   "outputs": [
    {
     "data": {
      "text/plain": [
       "9"
      ]
     },
     "execution_count": 59,
     "metadata": {},
     "output_type": "execute_result"
    }
   ],
   "source": [
    "predictions = model.predict(X_test)\n",
    "np.argmax(predictions[0])\n",
    "#predict function gives us percentage by how much that music matches to each genre.\n",
    "#The highest percentage for the given genre is our final result which is calculated by argmax ."
   ]
  }
 ],
 "metadata": {
  "kernelspec": {
   "display_name": "Python 3",
   "language": "python",
   "name": "python3"
  },
  "language_info": {
   "codemirror_mode": {
    "name": "ipython",
    "version": 3
   },
   "file_extension": ".py",
   "mimetype": "text/x-python",
   "name": "python",
   "nbconvert_exporter": "python",
   "pygments_lexer": "ipython3",
   "version": "3.7.4"
  }
 },
 "nbformat": 4,
 "nbformat_minor": 2
}
