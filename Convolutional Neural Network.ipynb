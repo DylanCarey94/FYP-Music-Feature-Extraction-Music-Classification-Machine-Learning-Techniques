{
 "cells": [
  {
   "cell_type": "code",
   "execution_count": 106,
   "metadata": {},
   "outputs": [],
   "source": [
    "#https://www.datacamp.com/community/tutorials/convolutional-neural-networks-python\n",
    "#https://datascience.stackexchange.com/questions/38957/keras-conv1d-for-simple-data-target-prediction\n",
    "import pandas as pd\n",
    "import numpy as np\n",
    "from keras.utils import to_categorical\n",
    "import matplotlib.pyplot as plt\n",
    "import sklearn\n",
    "import keras\n",
    "from sklearn.preprocessing import StandardScaler, normalize \n",
    "from sklearn.decomposition import PCA\n",
    "%matplotlib inline"
   ]
  },
  {
   "cell_type": "code",
   "execution_count": 107,
   "metadata": {},
   "outputs": [],
   "source": [
    "dataset = pd.read_csv(\"data_test_two.csv\")"
   ]
  },
  {
   "cell_type": "code",
   "execution_count": 108,
   "metadata": {},
   "outputs": [
    {
     "data": {
      "text/plain": [
       "(1000, 31)"
      ]
     },
     "execution_count": 108,
     "metadata": {},
     "output_type": "execute_result"
    }
   ],
   "source": [
    "dataset.shape"
   ]
  },
  {
   "cell_type": "code",
   "execution_count": 109,
   "metadata": {},
   "outputs": [
    {
     "data": {
      "text/html": [
       "<div>\n",
       "<style scoped>\n",
       "    .dataframe tbody tr th:only-of-type {\n",
       "        vertical-align: middle;\n",
       "    }\n",
       "\n",
       "    .dataframe tbody tr th {\n",
       "        vertical-align: top;\n",
       "    }\n",
       "\n",
       "    .dataframe thead th {\n",
       "        text-align: right;\n",
       "    }\n",
       "</style>\n",
       "<table border=\"1\" class=\"dataframe\">\n",
       "  <thead>\n",
       "    <tr style=\"text-align: right;\">\n",
       "      <th></th>\n",
       "      <th>Filename</th>\n",
       "      <th>Chromagram</th>\n",
       "      <th>RootMeanSquare</th>\n",
       "      <th>LowEnergyBrightness</th>\n",
       "      <th>SpectralCentroid</th>\n",
       "      <th>Flatness</th>\n",
       "      <th>Bandwidth</th>\n",
       "      <th>InHarmonicity</th>\n",
       "      <th>Rolloff</th>\n",
       "      <th>ZeroCrossingRate</th>\n",
       "      <th>...</th>\n",
       "      <th>mfcc12</th>\n",
       "      <th>mfcc13</th>\n",
       "      <th>mfcc14</th>\n",
       "      <th>mfcc15</th>\n",
       "      <th>mfcc16</th>\n",
       "      <th>mfcc17</th>\n",
       "      <th>mfcc18</th>\n",
       "      <th>mfcc19</th>\n",
       "      <th>mfcc20</th>\n",
       "      <th>label</th>\n",
       "    </tr>\n",
       "  </thead>\n",
       "  <tbody>\n",
       "    <tr>\n",
       "      <td>0</td>\n",
       "      <td>blues.00000.wav</td>\n",
       "      <td>0.308240</td>\n",
       "      <td>0.082484</td>\n",
       "      <td>27.461745</td>\n",
       "      <td>1530.180434</td>\n",
       "      <td>0.001002</td>\n",
       "      <td>1824.429264</td>\n",
       "      <td>0.001347</td>\n",
       "      <td>3168.064176</td>\n",
       "      <td>0.070382</td>\n",
       "      <td>...</td>\n",
       "      <td>6.820536</td>\n",
       "      <td>0.147667</td>\n",
       "      <td>4.328625</td>\n",
       "      <td>-1.665351</td>\n",
       "      <td>-1.945349</td>\n",
       "      <td>0.523056</td>\n",
       "      <td>-2.841816</td>\n",
       "      <td>-0.065698</td>\n",
       "      <td>-0.999933</td>\n",
       "      <td>blues</td>\n",
       "    </tr>\n",
       "    <tr>\n",
       "      <td>1</td>\n",
       "      <td>blues.00001.wav</td>\n",
       "      <td>0.301362</td>\n",
       "      <td>0.064603</td>\n",
       "      <td>27.914919</td>\n",
       "      <td>1175.096777</td>\n",
       "      <td>0.000376</td>\n",
       "      <td>1712.769659</td>\n",
       "      <td>0.018918</td>\n",
       "      <td>2418.127045</td>\n",
       "      <td>0.044440</td>\n",
       "      <td>...</td>\n",
       "      <td>2.653106</td>\n",
       "      <td>0.852110</td>\n",
       "      <td>2.218112</td>\n",
       "      <td>-4.896205</td>\n",
       "      <td>-1.090712</td>\n",
       "      <td>1.080965</td>\n",
       "      <td>-0.705705</td>\n",
       "      <td>1.682992</td>\n",
       "      <td>-0.814985</td>\n",
       "      <td>blues</td>\n",
       "    </tr>\n",
       "    <tr>\n",
       "      <td>2</td>\n",
       "      <td>blues.00002.wav</td>\n",
       "      <td>0.296246</td>\n",
       "      <td>0.121445</td>\n",
       "      <td>28.715256</td>\n",
       "      <td>1300.687993</td>\n",
       "      <td>0.000450</td>\n",
       "      <td>1573.146791</td>\n",
       "      <td>0.023695</td>\n",
       "      <td>2474.635036</td>\n",
       "      <td>0.064787</td>\n",
       "      <td>...</td>\n",
       "      <td>4.730809</td>\n",
       "      <td>-7.923660</td>\n",
       "      <td>-5.274928</td>\n",
       "      <td>-8.546422</td>\n",
       "      <td>0.367640</td>\n",
       "      <td>-7.297458</td>\n",
       "      <td>-4.841222</td>\n",
       "      <td>-3.672829</td>\n",
       "      <td>-4.288005</td>\n",
       "      <td>blues</td>\n",
       "    </tr>\n",
       "    <tr>\n",
       "      <td>3</td>\n",
       "      <td>blues.00003.wav</td>\n",
       "      <td>0.378577</td>\n",
       "      <td>0.117733</td>\n",
       "      <td>27.093797</td>\n",
       "      <td>763.311989</td>\n",
       "      <td>0.000145</td>\n",
       "      <td>1282.633866</td>\n",
       "      <td>0.003308</td>\n",
       "      <td>1384.558294</td>\n",
       "      <td>0.024863</td>\n",
       "      <td>...</td>\n",
       "      <td>5.116895</td>\n",
       "      <td>0.443054</td>\n",
       "      <td>-1.879724</td>\n",
       "      <td>0.222495</td>\n",
       "      <td>1.200053</td>\n",
       "      <td>-0.744148</td>\n",
       "      <td>1.804096</td>\n",
       "      <td>-0.031980</td>\n",
       "      <td>-4.040267</td>\n",
       "      <td>blues</td>\n",
       "    </tr>\n",
       "    <tr>\n",
       "      <td>4</td>\n",
       "      <td>blues.00004.wav</td>\n",
       "      <td>0.261497</td>\n",
       "      <td>0.060894</td>\n",
       "      <td>28.869262</td>\n",
       "      <td>1537.410063</td>\n",
       "      <td>0.000794</td>\n",
       "      <td>1578.964166</td>\n",
       "      <td>-0.049976</td>\n",
       "      <td>2951.473820</td>\n",
       "      <td>0.085609</td>\n",
       "      <td>...</td>\n",
       "      <td>-6.884247</td>\n",
       "      <td>-6.812018</td>\n",
       "      <td>-12.432060</td>\n",
       "      <td>-10.807361</td>\n",
       "      <td>-8.185105</td>\n",
       "      <td>-5.412588</td>\n",
       "      <td>-1.941454</td>\n",
       "      <td>-7.050840</td>\n",
       "      <td>-17.652891</td>\n",
       "      <td>blues</td>\n",
       "    </tr>\n",
       "  </tbody>\n",
       "</table>\n",
       "<p>5 rows × 31 columns</p>\n",
       "</div>"
      ],
      "text/plain": [
       "          Filename  Chromagram  RootMeanSquare  LowEnergyBrightness  \\\n",
       "0  blues.00000.wav    0.308240        0.082484            27.461745   \n",
       "1  blues.00001.wav    0.301362        0.064603            27.914919   \n",
       "2  blues.00002.wav    0.296246        0.121445            28.715256   \n",
       "3  blues.00003.wav    0.378577        0.117733            27.093797   \n",
       "4  blues.00004.wav    0.261497        0.060894            28.869262   \n",
       "\n",
       "   SpectralCentroid  Flatness    Bandwidth  InHarmonicity      Rolloff  \\\n",
       "0       1530.180434  0.001002  1824.429264       0.001347  3168.064176   \n",
       "1       1175.096777  0.000376  1712.769659       0.018918  2418.127045   \n",
       "2       1300.687993  0.000450  1573.146791       0.023695  2474.635036   \n",
       "3        763.311989  0.000145  1282.633866       0.003308  1384.558294   \n",
       "4       1537.410063  0.000794  1578.964166      -0.049976  2951.473820   \n",
       "\n",
       "   ZeroCrossingRate  ...    mfcc12    mfcc13     mfcc14     mfcc15    mfcc16  \\\n",
       "0          0.070382  ...  6.820536  0.147667   4.328625  -1.665351 -1.945349   \n",
       "1          0.044440  ...  2.653106  0.852110   2.218112  -4.896205 -1.090712   \n",
       "2          0.064787  ...  4.730809 -7.923660  -5.274928  -8.546422  0.367640   \n",
       "3          0.024863  ...  5.116895  0.443054  -1.879724   0.222495  1.200053   \n",
       "4          0.085609  ... -6.884247 -6.812018 -12.432060 -10.807361 -8.185105   \n",
       "\n",
       "     mfcc17    mfcc18    mfcc19     mfcc20  label  \n",
       "0  0.523056 -2.841816 -0.065698  -0.999933  blues  \n",
       "1  1.080965 -0.705705  1.682992  -0.814985  blues  \n",
       "2 -7.297458 -4.841222 -3.672829  -4.288005  blues  \n",
       "3 -0.744148  1.804096 -0.031980  -4.040267  blues  \n",
       "4 -5.412588 -1.941454 -7.050840 -17.652891  blues  \n",
       "\n",
       "[5 rows x 31 columns]"
      ]
     },
     "execution_count": 109,
     "metadata": {},
     "output_type": "execute_result"
    }
   ],
   "source": [
    "dataset.head()"
   ]
  },
  {
   "cell_type": "code",
   "execution_count": 110,
   "metadata": {},
   "outputs": [
    {
     "data": {
      "text/plain": [
       "array([[ 3.08240443e-01,  8.24842453e-02,  2.74617448e+01, ...,\n",
       "        -2.84181595e+00, -6.56982735e-02, -9.99933362e-01],\n",
       "       [ 3.01362425e-01,  6.46026880e-02,  2.79149191e+01, ...,\n",
       "        -7.05705345e-01,  1.68299246e+00, -8.14985037e-01],\n",
       "       [ 2.96246499e-01,  1.21445291e-01,  2.87152562e+01, ...,\n",
       "        -4.84122181e+00, -3.67282891e+00, -4.28800535e+00],\n",
       "       ...,\n",
       "       [ 3.66348594e-01,  6.05485290e-02,  3.00182623e+01, ...,\n",
       "        -9.14186612e-02, -1.25586147e+01, -6.97441912e+00],\n",
       "       [ 3.27992857e-01,  7.18119740e-02,  2.97850345e+01, ...,\n",
       "         1.31087527e-02, -4.22884464e+00, -5.78809404e+00],\n",
       "       [ 3.35971713e-01,  4.95662913e-02,  3.22040486e+01, ...,\n",
       "        -1.39498103e+00, -7.16741681e-02,  1.03679252e+00]])"
      ]
     },
     "execution_count": 110,
     "metadata": {},
     "output_type": "execute_result"
    }
   ],
   "source": [
    "# Y = dataset['label']\n",
    "X = dataset\n",
    "X['numlabels'] = X['label'].astype('category').cat.codes\n",
    "X = dataset.drop(['Filename', 'label', 'numlabels'],axis=1) #Filename is not required\n",
    "Y = dataset['numlabels']\n",
    "X = np.array(X)\n",
    "Y = np.array(Y)\n",
    "X"
   ]
  },
  {
   "cell_type": "code",
   "execution_count": 111,
   "metadata": {},
   "outputs": [],
   "source": [
    "# features = ['Chromagram','RootMeanSquare','LowEnergyBrightness','SpectralCentroid','Flatness','Bandwidth','InHarmonicity','Rolloff','ZeroCrossingRate','mfcc1','mfcc2','mfcc3','mfcc4','mfcc5','mfcc6','mfcc7','mfcc8','mfcc9','mfcc10','mfcc11','mfcc12','mfcc13','mfcc14','mfcc15','mfcc16','mfcc17','mfcc18','mfcc19','mfcc20']\n",
    "# # Separating out the features\n",
    "# x = X.loc[:, features].values\n",
    "# # Separating out the target\n",
    "# # Standardizing the features\n",
    "# x = StandardScaler().fit_transform(x)"
   ]
  },
  {
   "cell_type": "code",
   "execution_count": 112,
   "metadata": {},
   "outputs": [],
   "source": [
    "# pca = PCA(n_components=2)\n",
    "# principalComponents = pca.fit_transform(x)\n",
    "# principalDf = pd.DataFrame(data = principalComponents\n",
    "#              , columns = ['principal component 1', 'principal component 2'])\n",
    "# print(principalDf)"
   ]
  },
  {
   "cell_type": "code",
   "execution_count": 100,
   "metadata": {},
   "outputs": [],
   "source": [
    "# finalDf = pd.concat([principalDf, X[['numlabels']]], axis = 1)\n",
    "# print(finalDf)"
   ]
  },
  {
   "cell_type": "code",
   "execution_count": 113,
   "metadata": {},
   "outputs": [],
   "source": [
    "# X = finalDf.drop(['numlabels'],axis=1)\n",
    "# #Y = finalDf.drop(['principal component 1', 'principal component 2'],axis=1)\n",
    "# X = np.array(X)\n",
    "# Y = np.array(finalDf['numlabels'])"
   ]
  },
  {
   "cell_type": "code",
   "execution_count": 114,
   "metadata": {},
   "outputs": [],
   "source": [
    "from sklearn.model_selection import train_test_split\n",
    "X_train, X_test, Y_train, Y_test = train_test_split(X, Y, test_size=0.1)"
   ]
  },
  {
   "cell_type": "code",
   "execution_count": 115,
   "metadata": {},
   "outputs": [
    {
     "name": "stdout",
     "output_type": "stream",
     "text": [
      "Training data shape :  (900, 29) (900,)\n",
      "Testing data shape :  (100, 29) (100,)\n"
     ]
    }
   ],
   "source": [
    "print('Training data shape : ', X_train.shape, Y_train.shape)\n",
    "\n",
    "print('Testing data shape : ', X_test.shape, Y_test.shape)"
   ]
  },
  {
   "cell_type": "code",
   "execution_count": 116,
   "metadata": {},
   "outputs": [
    {
     "data": {
      "text/plain": [
       "((900, 29, 1, 1), (100, 29, 1, 1), (900,), (100,))"
      ]
     },
     "execution_count": 116,
     "metadata": {},
     "output_type": "execute_result"
    }
   ],
   "source": [
    "# X_train = X_train.reshape(900, 2, 1, 1)\n",
    "# X_test = X_test.reshape(100, 2, 1, 1)\n",
    "# X_train.shape, X_test.shape, Y_train.shape, Y_test.shape\n",
    "\n",
    "X_train = X_train.reshape(900, 29, 1, 1)\n",
    "X_test = X_test.reshape(100, 29, 1, 1)\n",
    "X_train.shape, X_test.shape, Y_train.shape, Y_test.shape"
   ]
  },
  {
   "cell_type": "code",
   "execution_count": 117,
   "metadata": {},
   "outputs": [
    {
     "name": "stdout",
     "output_type": "stream",
     "text": [
      "Total number of outputs :  10\n",
      "Output classes :  [0 1 2 3 4 5 6 7 8 9]\n"
     ]
    }
   ],
   "source": [
    "# Find the unique numbers from the train labels\n",
    "classes = np.unique(Y_train)\n",
    "nClasses = len(classes)\n",
    "print('Total number of outputs : ', nClasses)\n",
    "print('Output classes : ', classes)"
   ]
  },
  {
   "cell_type": "code",
   "execution_count": 118,
   "metadata": {},
   "outputs": [
    {
     "name": "stdout",
     "output_type": "stream",
     "text": [
      "Training data shape :  (900, 29, 1, 1) (900,)\n",
      "Testing data shape :  (100, 29, 1, 1) (100,)\n"
     ]
    }
   ],
   "source": [
    "print('Training data shape : ', X_train.shape, Y_train.shape)\n",
    "\n",
    "print('Testing data shape : ', X_test.shape, Y_test.shape)"
   ]
  },
  {
   "cell_type": "code",
   "execution_count": 119,
   "metadata": {},
   "outputs": [
    {
     "name": "stdout",
     "output_type": "stream",
     "text": [
      "Original label: 5\n",
      "After conversion to one-hot: [0. 0. 0. 0. 0. 1. 0. 0. 0. 0.]\n"
     ]
    }
   ],
   "source": [
    "# Change the labels from categorical to one-hot encoding\n",
    "train_Y_one_hot = to_categorical(Y_train)\n",
    "test_Y_one_hot = to_categorical(Y_test)\n",
    "\n",
    "# Display the change for category label using one-hot encoding\n",
    "print('Original label:', Y_train[0])\n",
    "print('After conversion to one-hot:', train_Y_one_hot[0])"
   ]
  },
  {
   "cell_type": "code",
   "execution_count": 120,
   "metadata": {},
   "outputs": [],
   "source": [
    "train_X,valid_X,train_label,valid_label = train_test_split(X_train, train_Y_one_hot, test_size=0.1, random_state=13)"
   ]
  },
  {
   "cell_type": "code",
   "execution_count": 121,
   "metadata": {},
   "outputs": [
    {
     "data": {
      "text/plain": [
       "((810, 29, 1, 1), (90, 29, 1, 1), (810, 10), (90, 10))"
      ]
     },
     "execution_count": 121,
     "metadata": {},
     "output_type": "execute_result"
    }
   ],
   "source": [
    "train_X.shape,valid_X.shape,train_label.shape,valid_label.shape"
   ]
  },
  {
   "cell_type": "code",
   "execution_count": 185,
   "metadata": {},
   "outputs": [],
   "source": [
    "import keras\n",
    "from keras.models import Sequential,Input,Model\n",
    "from keras.layers import Dense, Dropout, Flatten, InputLayer\n",
    "from keras.layers import Conv2D, MaxPooling2D\n",
    "from keras.layers.normalization import BatchNormalization\n",
    "from keras.layers.advanced_activations import LeakyReLU"
   ]
  },
  {
   "cell_type": "code",
   "execution_count": 226,
   "metadata": {},
   "outputs": [],
   "source": [
    "#https://stackoverflow.com/questions/45325802/valueerror-error-when-checking-input-expected-conv1d-1-input-to-have-3-dimensi\n",
    "batch_size = 128\n",
    "epochs = 512\n",
    "num_classes = 10"
   ]
  },
  {
   "cell_type": "code",
   "execution_count": 227,
   "metadata": {},
   "outputs": [],
   "source": [
    "music_model = Sequential()\n",
    "music_model.add(Conv2D(32, kernel_size=(3, 3),activation='linear',input_shape=(29, 1, 1),padding='same'))\n",
    "music_model.add(LeakyReLU(alpha=0.1))\n",
    "music_model.add(MaxPooling2D((2, 2),padding='same'))\n",
    "music_model.add(Dropout(0.25))\n",
    "music_model.add(Conv2D(64, (3, 3), activation='linear',padding='same'))\n",
    "music_model.add(LeakyReLU(alpha=0.1))\n",
    "music_model.add(MaxPooling2D(pool_size=(2, 2),padding='same'))\n",
    "music_model.add(Dropout(0.25))\n",
    "music_model.add(Conv2D(128, (3, 3), activation='linear',padding='same'))\n",
    "music_model.add(LeakyReLU(alpha=0.1))                  \n",
    "music_model.add(MaxPooling2D(pool_size=(2, 2),padding='same'))\n",
    "music_model.add(Dropout(0.4))\n",
    "music_model.add(Flatten())\n",
    "music_model.add(Dense(128, activation='linear'))\n",
    "music_model.add(LeakyReLU(alpha=0.1))            \n",
    "music_model.add(Dropout(0.3))\n",
    "music_model.add(Dense(num_classes, activation='softmax'))\n",
    "\n",
    "music_model.compile(loss=keras.losses.categorical_crossentropy, optimizer=keras.optimizers.Adam(),metrics=['accuracy'])\n",
    "\n",
    "# music_model = Sequential()\n",
    "# music_model.add(Dense(10, input_dim=2, activation='relu'))\n",
    "# music_model.add(Dense(1, activation='relu'))\n",
    "# music_model.compile(loss = 'mean_squared_error', optimizer = 'adam', metrics = ['accuracy'])"
   ]
  },
  {
   "cell_type": "code",
   "execution_count": 228,
   "metadata": {},
   "outputs": [
    {
     "name": "stdout",
     "output_type": "stream",
     "text": [
      "Model: \"sequential_15\"\n",
      "_________________________________________________________________\n",
      "Layer (type)                 Output Shape              Param #   \n",
      "=================================================================\n",
      "conv2d_43 (Conv2D)           (None, 29, 1, 32)         320       \n",
      "_________________________________________________________________\n",
      "leaky_re_lu_57 (LeakyReLU)   (None, 29, 1, 32)         0         \n",
      "_________________________________________________________________\n",
      "max_pooling2d_43 (MaxPooling (None, 15, 1, 32)         0         \n",
      "_________________________________________________________________\n",
      "dropout_33 (Dropout)         (None, 15, 1, 32)         0         \n",
      "_________________________________________________________________\n",
      "conv2d_44 (Conv2D)           (None, 15, 1, 64)         18496     \n",
      "_________________________________________________________________\n",
      "leaky_re_lu_58 (LeakyReLU)   (None, 15, 1, 64)         0         \n",
      "_________________________________________________________________\n",
      "max_pooling2d_44 (MaxPooling (None, 8, 1, 64)          0         \n",
      "_________________________________________________________________\n",
      "dropout_34 (Dropout)         (None, 8, 1, 64)          0         \n",
      "_________________________________________________________________\n",
      "conv2d_45 (Conv2D)           (None, 8, 1, 128)         73856     \n",
      "_________________________________________________________________\n",
      "leaky_re_lu_59 (LeakyReLU)   (None, 8, 1, 128)         0         \n",
      "_________________________________________________________________\n",
      "max_pooling2d_45 (MaxPooling (None, 4, 1, 128)         0         \n",
      "_________________________________________________________________\n",
      "dropout_35 (Dropout)         (None, 4, 1, 128)         0         \n",
      "_________________________________________________________________\n",
      "flatten_15 (Flatten)         (None, 512)               0         \n",
      "_________________________________________________________________\n",
      "dense_29 (Dense)             (None, 128)               65664     \n",
      "_________________________________________________________________\n",
      "leaky_re_lu_60 (LeakyReLU)   (None, 128)               0         \n",
      "_________________________________________________________________\n",
      "dropout_36 (Dropout)         (None, 128)               0         \n",
      "_________________________________________________________________\n",
      "dense_30 (Dense)             (None, 10)                1290      \n",
      "=================================================================\n",
      "Total params: 159,626\n",
      "Trainable params: 159,626\n",
      "Non-trainable params: 0\n",
      "_________________________________________________________________\n"
     ]
    }
   ],
   "source": [
    "music_model.summary()"
   ]
  },
  {
   "cell_type": "code",
   "execution_count": null,
   "metadata": {},
   "outputs": [
    {
     "name": "stdout",
     "output_type": "stream",
     "text": [
      "Train on 810 samples, validate on 90 samples\n",
      "Epoch 1/512\n",
      "810/810 [==============================] - 0s 369us/step - loss: 50.3614 - accuracy: 0.0877 - val_loss: 5.6458 - val_accuracy: 0.1111\n",
      "Epoch 2/512\n",
      "810/810 [==============================] - 0s 118us/step - loss: 16.6579 - accuracy: 0.0926 - val_loss: 2.6338 - val_accuracy: 0.1889\n",
      "Epoch 3/512\n",
      "810/810 [==============================] - 0s 121us/step - loss: 8.7786 - accuracy: 0.0951 - val_loss: 2.5489 - val_accuracy: 0.1111\n",
      "Epoch 4/512\n",
      "810/810 [==============================] - 0s 119us/step - loss: 5.5645 - accuracy: 0.1259 - val_loss: 2.3642 - val_accuracy: 0.1111\n",
      "Epoch 5/512\n",
      "810/810 [==============================] - 0s 123us/step - loss: 4.5421 - accuracy: 0.1284 - val_loss: 2.2438 - val_accuracy: 0.1333\n",
      "Epoch 6/512\n",
      "810/810 [==============================] - 0s 127us/step - loss: 3.9364 - accuracy: 0.1148 - val_loss: 2.1752 - val_accuracy: 0.3000\n",
      "Epoch 7/512\n",
      "810/810 [==============================] - 0s 121us/step - loss: 3.4800 - accuracy: 0.1247 - val_loss: 2.1380 - val_accuracy: 0.2333\n",
      "Epoch 8/512\n",
      "810/810 [==============================] - 0s 119us/step - loss: 3.0282 - accuracy: 0.1383 - val_loss: 2.1205 - val_accuracy: 0.2444\n",
      "Epoch 9/512\n",
      "810/810 [==============================] - 0s 121us/step - loss: 2.9369 - accuracy: 0.1531 - val_loss: 2.0980 - val_accuracy: 0.2333\n",
      "Epoch 10/512\n",
      "810/810 [==============================] - 0s 121us/step - loss: 2.7971 - accuracy: 0.1420 - val_loss: 2.0708 - val_accuracy: 0.2556\n",
      "Epoch 11/512\n",
      "810/810 [==============================] - 0s 132us/step - loss: 2.8305 - accuracy: 0.1358 - val_loss: 2.0565 - val_accuracy: 0.2667\n",
      "Epoch 12/512\n",
      "810/810 [==============================] - 0s 117us/step - loss: 2.6827 - accuracy: 0.1568 - val_loss: 2.0483 - val_accuracy: 0.3000\n",
      "Epoch 13/512\n",
      "810/810 [==============================] - 0s 118us/step - loss: 2.6912 - accuracy: 0.1494 - val_loss: 2.0225 - val_accuracy: 0.3000\n",
      "Epoch 14/512\n",
      "810/810 [==============================] - 0s 137us/step - loss: 2.5706 - accuracy: 0.1802 - val_loss: 2.0074 - val_accuracy: 0.2556\n",
      "Epoch 15/512\n",
      "810/810 [==============================] - 0s 121us/step - loss: 2.5010 - accuracy: 0.1580 - val_loss: 2.0111 - val_accuracy: 0.2778\n",
      "Epoch 16/512\n",
      "810/810 [==============================] - 0s 124us/step - loss: 2.5150 - accuracy: 0.1630 - val_loss: 2.0114 - val_accuracy: 0.2778\n",
      "Epoch 17/512\n",
      "810/810 [==============================] - 0s 121us/step - loss: 2.4296 - accuracy: 0.1642 - val_loss: 2.0013 - val_accuracy: 0.3000\n",
      "Epoch 18/512\n",
      "810/810 [==============================] - 0s 126us/step - loss: 2.4254 - accuracy: 0.1580 - val_loss: 1.9597 - val_accuracy: 0.3000\n",
      "Epoch 19/512\n",
      "810/810 [==============================] - 0s 126us/step - loss: 2.4418 - accuracy: 0.1494 - val_loss: 1.9248 - val_accuracy: 0.3000\n",
      "Epoch 20/512\n",
      "810/810 [==============================] - 0s 125us/step - loss: 2.4362 - accuracy: 0.1531 - val_loss: 1.9211 - val_accuracy: 0.3000\n",
      "Epoch 21/512\n",
      "810/810 [==============================] - 0s 127us/step - loss: 2.3199 - accuracy: 0.1765 - val_loss: 1.9319 - val_accuracy: 0.2889\n",
      "Epoch 22/512\n",
      "810/810 [==============================] - 0s 127us/step - loss: 2.2571 - accuracy: 0.1926 - val_loss: 1.9200 - val_accuracy: 0.3000\n",
      "Epoch 23/512\n",
      "810/810 [==============================] - 0s 133us/step - loss: 2.2749 - accuracy: 0.1877 - val_loss: 1.8998 - val_accuracy: 0.2778\n",
      "Epoch 24/512\n",
      "810/810 [==============================] - 0s 122us/step - loss: 2.3012 - accuracy: 0.1630 - val_loss: 1.9058 - val_accuracy: 0.2889\n",
      "Epoch 25/512\n",
      "810/810 [==============================] - 0s 124us/step - loss: 2.2481 - accuracy: 0.2049 - val_loss: 1.8934 - val_accuracy: 0.2889\n",
      "Epoch 26/512\n",
      "810/810 [==============================] - 0s 126us/step - loss: 2.2901 - accuracy: 0.1778 - val_loss: 1.8926 - val_accuracy: 0.3111\n",
      "Epoch 27/512\n",
      "810/810 [==============================] - 0s 123us/step - loss: 2.2420 - accuracy: 0.1901 - val_loss: 1.8977 - val_accuracy: 0.3222\n",
      "Epoch 28/512\n",
      "810/810 [==============================] - 0s 121us/step - loss: 2.1823 - accuracy: 0.2173 - val_loss: 1.8828 - val_accuracy: 0.2778\n",
      "Epoch 29/512\n",
      "810/810 [==============================] - 0s 119us/step - loss: 2.2354 - accuracy: 0.2025 - val_loss: 1.8593 - val_accuracy: 0.2667\n",
      "Epoch 30/512\n",
      "810/810 [==============================] - 0s 126us/step - loss: 2.1883 - accuracy: 0.1901 - val_loss: 1.8553 - val_accuracy: 0.2556\n",
      "Epoch 31/512\n",
      "810/810 [==============================] - 0s 123us/step - loss: 2.1644 - accuracy: 0.1877 - val_loss: 1.8534 - val_accuracy: 0.2333\n",
      "Epoch 32/512\n",
      "810/810 [==============================] - 0s 121us/step - loss: 2.1469 - accuracy: 0.2333 - val_loss: 1.8480 - val_accuracy: 0.2778\n",
      "Epoch 33/512\n",
      "810/810 [==============================] - 0s 120us/step - loss: 2.1174 - accuracy: 0.2420 - val_loss: 1.8515 - val_accuracy: 0.3111\n",
      "Epoch 34/512\n",
      "810/810 [==============================] - 0s 123us/step - loss: 2.0896 - accuracy: 0.2333 - val_loss: 1.8492 - val_accuracy: 0.3444\n",
      "Epoch 35/512\n",
      "810/810 [==============================] - 0s 121us/step - loss: 2.1013 - accuracy: 0.2321 - val_loss: 1.8196 - val_accuracy: 0.3000\n",
      "Epoch 36/512\n",
      "810/810 [==============================] - 0s 123us/step - loss: 2.1255 - accuracy: 0.2309 - val_loss: 1.8091 - val_accuracy: 0.2889\n",
      "Epoch 37/512\n",
      "810/810 [==============================] - 0s 128us/step - loss: 2.0818 - accuracy: 0.2506 - val_loss: 1.8013 - val_accuracy: 0.3111\n",
      "Epoch 38/512\n",
      "810/810 [==============================] - 0s 129us/step - loss: 2.0638 - accuracy: 0.2642 - val_loss: 1.7907 - val_accuracy: 0.3444\n",
      "Epoch 39/512\n",
      "810/810 [==============================] - 0s 122us/step - loss: 2.0412 - accuracy: 0.2469 - val_loss: 1.7897 - val_accuracy: 0.3000\n",
      "Epoch 40/512\n",
      "810/810 [==============================] - 0s 124us/step - loss: 2.0926 - accuracy: 0.2494 - val_loss: 1.7848 - val_accuracy: 0.3333\n",
      "Epoch 41/512\n",
      "810/810 [==============================] - 0s 127us/step - loss: 2.0530 - accuracy: 0.2543 - val_loss: 1.7747 - val_accuracy: 0.3333\n",
      "Epoch 42/512\n",
      "810/810 [==============================] - 0s 118us/step - loss: 2.0851 - accuracy: 0.2358 - val_loss: 1.7749 - val_accuracy: 0.3444\n",
      "Epoch 43/512\n",
      "810/810 [==============================] - 0s 126us/step - loss: 2.0461 - accuracy: 0.2506 - val_loss: 1.7570 - val_accuracy: 0.3000\n",
      "Epoch 44/512\n",
      "810/810 [==============================] - 0s 121us/step - loss: 2.0149 - accuracy: 0.2580 - val_loss: 1.7433 - val_accuracy: 0.3444\n",
      "Epoch 45/512\n",
      "810/810 [==============================] - 0s 121us/step - loss: 2.0369 - accuracy: 0.2593 - val_loss: 1.7341 - val_accuracy: 0.3333\n",
      "Epoch 46/512\n",
      "810/810 [==============================] - 0s 124us/step - loss: 2.0342 - accuracy: 0.2469 - val_loss: 1.7212 - val_accuracy: 0.3667\n",
      "Epoch 47/512\n",
      "810/810 [==============================] - 0s 123us/step - loss: 1.9764 - accuracy: 0.2716 - val_loss: 1.7156 - val_accuracy: 0.3333\n",
      "Epoch 48/512\n",
      "810/810 [==============================] - 0s 126us/step - loss: 1.9923 - accuracy: 0.2778 - val_loss: 1.7083 - val_accuracy: 0.4000\n",
      "Epoch 49/512\n",
      "810/810 [==============================] - 0s 123us/step - loss: 1.9739 - accuracy: 0.2741 - val_loss: 1.6952 - val_accuracy: 0.4000\n",
      "Epoch 50/512\n",
      "810/810 [==============================] - 0s 119us/step - loss: 2.0116 - accuracy: 0.2568 - val_loss: 1.6963 - val_accuracy: 0.4000\n",
      "Epoch 51/512\n",
      "810/810 [==============================] - 0s 119us/step - loss: 1.9567 - accuracy: 0.2790 - val_loss: 1.6890 - val_accuracy: 0.4111\n",
      "Epoch 52/512\n",
      "810/810 [==============================] - 0s 127us/step - loss: 1.9792 - accuracy: 0.2654 - val_loss: 1.6908 - val_accuracy: 0.3778\n",
      "Epoch 53/512\n",
      "810/810 [==============================] - 0s 117us/step - loss: 1.9590 - accuracy: 0.2852 - val_loss: 1.6949 - val_accuracy: 0.3889\n",
      "Epoch 54/512\n",
      "810/810 [==============================] - 0s 117us/step - loss: 1.9422 - accuracy: 0.3062 - val_loss: 1.6759 - val_accuracy: 0.4222\n",
      "Epoch 55/512\n",
      "810/810 [==============================] - 0s 119us/step - loss: 1.9490 - accuracy: 0.3086 - val_loss: 1.6651 - val_accuracy: 0.4222\n",
      "Epoch 56/512\n",
      "810/810 [==============================] - 0s 122us/step - loss: 1.9289 - accuracy: 0.2827 - val_loss: 1.6861 - val_accuracy: 0.4444\n"
     ]
    },
    {
     "name": "stdout",
     "output_type": "stream",
     "text": [
      "Epoch 57/512\n",
      "810/810 [==============================] - 0s 115us/step - loss: 1.9371 - accuracy: 0.2728 - val_loss: 1.6725 - val_accuracy: 0.4444\n",
      "Epoch 58/512\n",
      "810/810 [==============================] - 0s 116us/step - loss: 1.9212 - accuracy: 0.2951 - val_loss: 1.6464 - val_accuracy: 0.4111\n",
      "Epoch 59/512\n",
      "810/810 [==============================] - 0s 127us/step - loss: 1.9590 - accuracy: 0.2827 - val_loss: 1.6748 - val_accuracy: 0.4222\n",
      "Epoch 60/512\n",
      "810/810 [==============================] - 0s 117us/step - loss: 1.9217 - accuracy: 0.2642 - val_loss: 1.7022 - val_accuracy: 0.4222\n",
      "Epoch 61/512\n",
      "810/810 [==============================] - 0s 119us/step - loss: 1.9218 - accuracy: 0.3025 - val_loss: 1.6712 - val_accuracy: 0.4444\n",
      "Epoch 62/512\n",
      "810/810 [==============================] - 0s 118us/step - loss: 1.9061 - accuracy: 0.2926 - val_loss: 1.6599 - val_accuracy: 0.4333\n",
      "Epoch 63/512\n",
      "810/810 [==============================] - 0s 127us/step - loss: 1.8916 - accuracy: 0.3086 - val_loss: 1.6910 - val_accuracy: 0.4444\n",
      "Epoch 64/512\n",
      "810/810 [==============================] - 0s 117us/step - loss: 1.9179 - accuracy: 0.3049 - val_loss: 1.6988 - val_accuracy: 0.4556\n",
      "Epoch 65/512\n",
      "810/810 [==============================] - 0s 116us/step - loss: 1.9151 - accuracy: 0.2568 - val_loss: 1.6731 - val_accuracy: 0.4222\n",
      "Epoch 66/512\n",
      "810/810 [==============================] - 0s 119us/step - loss: 1.8777 - accuracy: 0.2988 - val_loss: 1.6441 - val_accuracy: 0.4667\n",
      "Epoch 67/512\n",
      "810/810 [==============================] - 0s 119us/step - loss: 1.8554 - accuracy: 0.3062 - val_loss: 1.6341 - val_accuracy: 0.5111\n",
      "Epoch 68/512\n",
      "810/810 [==============================] - 0s 117us/step - loss: 1.8835 - accuracy: 0.3198 - val_loss: 1.6570 - val_accuracy: 0.4222\n",
      "Epoch 69/512\n",
      "810/810 [==============================] - 0s 116us/step - loss: 1.9057 - accuracy: 0.2901 - val_loss: 1.6584 - val_accuracy: 0.4444\n",
      "Epoch 70/512\n",
      "810/810 [==============================] - 0s 117us/step - loss: 1.8567 - accuracy: 0.3198 - val_loss: 1.6483 - val_accuracy: 0.4222\n",
      "Epoch 71/512\n",
      "810/810 [==============================] - 0s 118us/step - loss: 1.8364 - accuracy: 0.3148 - val_loss: 1.6511 - val_accuracy: 0.4778\n",
      "Epoch 72/512\n",
      "810/810 [==============================] - 0s 118us/step - loss: 1.8390 - accuracy: 0.3358 - val_loss: 1.6461 - val_accuracy: 0.5000\n",
      "Epoch 73/512\n",
      "810/810 [==============================] - 0s 118us/step - loss: 1.8388 - accuracy: 0.3210 - val_loss: 1.6276 - val_accuracy: 0.4111\n",
      "Epoch 74/512\n",
      "810/810 [==============================] - 0s 118us/step - loss: 1.8034 - accuracy: 0.3272 - val_loss: 1.6094 - val_accuracy: 0.4444\n",
      "Epoch 75/512\n",
      "810/810 [==============================] - 0s 117us/step - loss: 1.8226 - accuracy: 0.3407 - val_loss: 1.6182 - val_accuracy: 0.4444\n",
      "Epoch 76/512\n",
      "810/810 [==============================] - 0s 116us/step - loss: 1.7890 - accuracy: 0.3346 - val_loss: 1.6225 - val_accuracy: 0.4444\n",
      "Epoch 77/512\n",
      "810/810 [==============================] - 0s 119us/step - loss: 1.8258 - accuracy: 0.3247 - val_loss: 1.5929 - val_accuracy: 0.4111\n",
      "Epoch 78/512\n",
      "810/810 [==============================] - 0s 118us/step - loss: 1.8040 - accuracy: 0.3519 - val_loss: 1.5817 - val_accuracy: 0.4778\n",
      "Epoch 79/512\n",
      "810/810 [==============================] - 0s 118us/step - loss: 1.8248 - accuracy: 0.3173 - val_loss: 1.5878 - val_accuracy: 0.4778\n",
      "Epoch 80/512\n",
      "810/810 [==============================] - 0s 118us/step - loss: 1.8034 - accuracy: 0.3543 - val_loss: 1.5664 - val_accuracy: 0.5000\n",
      "Epoch 81/512\n",
      "810/810 [==============================] - 0s 120us/step - loss: 1.7705 - accuracy: 0.3580 - val_loss: 1.5604 - val_accuracy: 0.5111\n",
      "Epoch 82/512\n",
      "810/810 [==============================] - 0s 120us/step - loss: 1.7754 - accuracy: 0.3679 - val_loss: 1.5733 - val_accuracy: 0.4667\n",
      "Epoch 83/512\n",
      "810/810 [==============================] - 0s 118us/step - loss: 1.7854 - accuracy: 0.3321 - val_loss: 1.5856 - val_accuracy: 0.4667\n",
      "Epoch 84/512\n",
      "810/810 [==============================] - 0s 117us/step - loss: 1.8029 - accuracy: 0.3420 - val_loss: 1.5638 - val_accuracy: 0.4889\n",
      "Epoch 85/512\n",
      "810/810 [==============================] - 0s 118us/step - loss: 1.7450 - accuracy: 0.3580 - val_loss: 1.5770 - val_accuracy: 0.4667\n",
      "Epoch 86/512\n",
      "810/810 [==============================] - 0s 121us/step - loss: 1.7412 - accuracy: 0.3568 - val_loss: 1.5574 - val_accuracy: 0.4778\n",
      "Epoch 87/512\n",
      "810/810 [==============================] - 0s 121us/step - loss: 1.7536 - accuracy: 0.3420 - val_loss: 1.5544 - val_accuracy: 0.5333\n",
      "Epoch 88/512\n",
      "810/810 [==============================] - 0s 117us/step - loss: 1.7270 - accuracy: 0.3630 - val_loss: 1.5519 - val_accuracy: 0.5222\n",
      "Epoch 89/512\n",
      "810/810 [==============================] - 0s 119us/step - loss: 1.7680 - accuracy: 0.3469 - val_loss: 1.5462 - val_accuracy: 0.5111\n",
      "Epoch 90/512\n",
      "810/810 [==============================] - 0s 121us/step - loss: 1.7722 - accuracy: 0.3395 - val_loss: 1.5445 - val_accuracy: 0.5000\n",
      "Epoch 91/512\n",
      "810/810 [==============================] - 0s 131us/step - loss: 1.7371 - accuracy: 0.3457 - val_loss: 1.5229 - val_accuracy: 0.5222\n",
      "Epoch 92/512\n",
      "810/810 [==============================] - 0s 119us/step - loss: 1.6899 - accuracy: 0.4062 - val_loss: 1.5375 - val_accuracy: 0.5333\n",
      "Epoch 93/512\n",
      "810/810 [==============================] - 0s 126us/step - loss: 1.6970 - accuracy: 0.3580 - val_loss: 1.5529 - val_accuracy: 0.5111\n",
      "Epoch 94/512\n",
      "810/810 [==============================] - 0s 138us/step - loss: 1.7189 - accuracy: 0.3481 - val_loss: 1.5346 - val_accuracy: 0.4889\n",
      "Epoch 95/512\n",
      "810/810 [==============================] - 0s 124us/step - loss: 1.7238 - accuracy: 0.3889 - val_loss: 1.5499 - val_accuracy: 0.5111\n",
      "Epoch 96/512\n",
      "128/810 [===>..........................] - ETA: 0s - loss: 1.7918 - accuracy: 0.3281"
     ]
    }
   ],
   "source": [
    "music_model_train_dropout = music_model.fit(train_X, train_label, batch_size=batch_size,epochs=epochs,verbose=1,validation_data=(valid_X, valid_label))\n",
    "\n",
    "# music_train = music_model.fit(train_X, train_label, batch_size=batch_size,epochs=epochs,verbose=1,validation_data=(valid_X, valid_label))\n",
    "# music_train = music_model.fit(X_train, Y_train, validation_data=(X_test, Y_test) ,epochs=400)"
   ]
  },
  {
   "cell_type": "code",
   "execution_count": null,
   "metadata": {},
   "outputs": [],
   "source": [
    "music_model.save(\"music_model_dropout.h5py\")"
   ]
  },
  {
   "cell_type": "code",
   "execution_count": null,
   "metadata": {},
   "outputs": [],
   "source": [
    "test_eval = music_model.evaluate(X_test, test_Y_one_hot, verbose=0)"
   ]
  },
  {
   "cell_type": "code",
   "execution_count": null,
   "metadata": {},
   "outputs": [],
   "source": [
    "print('Test loss:', test_eval[0])\n",
    "print('Test accuracy:', test_eval[1])"
   ]
  },
  {
   "cell_type": "code",
   "execution_count": null,
   "metadata": {},
   "outputs": [],
   "source": [
    "accuracy = music_train.history['accuracy']\n",
    "val_accuracy = music_train.history['val_accuracy']\n",
    "loss = music_train.history['loss']\n",
    "val_loss = music_train.history['val_loss']\n",
    "epochs = range(len(accuracy))\n",
    "plt.plot(epochs, accuracy, 'bo', label='Training accuracy')\n",
    "plt.plot(epochs, val_accuracy, 'b', label='Validation accuracy')\n",
    "plt.title('Training and validation accuracy')\n",
    "plt.legend()\n",
    "plt.figure()\n",
    "plt.plot(epochs, loss, 'bo', label='Training loss')\n",
    "plt.plot(epochs, val_loss, 'b', label='Validation loss')\n",
    "plt.title('Training and validation loss')\n",
    "plt.legend()\n",
    "plt.show()"
   ]
  },
  {
   "cell_type": "code",
   "execution_count": null,
   "metadata": {},
   "outputs": [],
   "source": [
    "accuracy = music_model_train_dropout.history['accuracy']\n",
    "val_accuracy = music_model_train_dropout.history['val_accuracy']\n",
    "loss = music_model_train_dropout.history['loss']\n",
    "val_loss = music_model_train_dropout.history['val_loss']\n",
    "epochs = range(len(accuracy))\n",
    "plt.plot(epochs, accuracy, 'bo', label='Training accuracy')\n",
    "plt.plot(epochs, val_accuracy, 'b', label='Validation accuracy')\n",
    "plt.title('Training and validation accuracy')\n",
    "plt.legend()\n",
    "plt.figure()\n",
    "plt.plot(epochs, loss, 'bo', label='Training loss')\n",
    "plt.plot(epochs, val_loss, 'b', label='Validation loss')\n",
    "plt.title('Training and validation loss')\n",
    "plt.legend()\n",
    "plt.show()"
   ]
  },
  {
   "cell_type": "code",
   "execution_count": null,
   "metadata": {},
   "outputs": [],
   "source": [
    "predicted_classes = music_model.predict(X_test)"
   ]
  },
  {
   "cell_type": "code",
   "execution_count": null,
   "metadata": {},
   "outputs": [],
   "source": [
    "predicted_classes = np.argmax(np.round(predicted_classes),axis=1)"
   ]
  },
  {
   "cell_type": "code",
   "execution_count": null,
   "metadata": {},
   "outputs": [],
   "source": [
    "predicted_classes.shape, Y_test.shape"
   ]
  },
  {
   "cell_type": "code",
   "execution_count": null,
   "metadata": {},
   "outputs": [],
   "source": [
    "correct = np.where(predicted_classes==Y_test)[0]\n",
    "print (\"Found %d correct labels\" % len(correct))\n",
    "for i, correct in enumerate(correct[:9]):\n",
    "    plt.subplot(3,3,i+1)\n",
    "    plt.imshow(X_test[correct].reshape(29,1), cmap='gray', interpolation='none')\n",
    "    plt.title(\"Predicted {}, Class {}\".format(predicted_classes[correct], Y_test[correct]))\n",
    "    plt.tight_layout()"
   ]
  },
  {
   "cell_type": "code",
   "execution_count": null,
   "metadata": {},
   "outputs": [],
   "source": [
    "incorrect = np.where(predicted_classes!=Y_test)[0]\n",
    "print (\"Found %d incorrect labels\" % len(incorrect))\n",
    "for i, incorrect in enumerate(incorrect[:9]):\n",
    "    plt.subplot(3,3,i+1)\n",
    "    plt.imshow(X_test[incorrect].reshape(29,1), cmap='gray', interpolation='none')\n",
    "    plt.title(\"Predicted {}, Class {}\".format(predicted_classes[incorrect], Y_test[incorrect]))\n",
    "    plt.tight_layout()"
   ]
  },
  {
   "cell_type": "code",
   "execution_count": null,
   "metadata": {},
   "outputs": [],
   "source": [
    "from sklearn.metrics import classification_report\n",
    "target_names = [\"Class {}\".format(i) for i in range(num_classes)]\n",
    "print(classification_report(Y_test, predicted_classes, target_names=target_names))"
   ]
  }
 ],
 "metadata": {
  "kernelspec": {
   "display_name": "Python 3",
   "language": "python",
   "name": "python3"
  },
  "language_info": {
   "codemirror_mode": {
    "name": "ipython",
    "version": 3
   },
   "file_extension": ".py",
   "mimetype": "text/x-python",
   "name": "python",
   "nbconvert_exporter": "python",
   "pygments_lexer": "ipython3",
   "version": "3.7.4"
  }
 },
 "nbformat": 4,
 "nbformat_minor": 2
}
