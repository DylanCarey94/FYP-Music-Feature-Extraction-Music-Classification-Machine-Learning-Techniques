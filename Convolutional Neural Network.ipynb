{
 "cells": [
  {
   "cell_type": "code",
   "execution_count": 6,
   "metadata": {},
   "outputs": [],
   "source": [
    "#https://www.datacamp.com/community/tutorials/convolutional-neural-networks-python\n",
    "#https://datascience.stackexchange.com/questions/38957/keras-conv1d-for-simple-data-target-prediction\n",
    "import pandas as pd\n",
    "import numpy as np\n",
    "from keras.utils import to_categorical\n",
    "import matplotlib.pyplot as plt\n",
    "import sklearn\n",
    "import keras\n",
    "from sklearn.preprocessing import StandardScaler, normalize \n",
    "from sklearn.decomposition import PCA\n",
    "%matplotlib inline"
   ]
  },
  {
   "cell_type": "code",
   "execution_count": 7,
   "metadata": {},
   "outputs": [],
   "source": [
    "dataset = pd.read_csv(\"data_test_two.csv\")"
   ]
  },
  {
   "cell_type": "code",
   "execution_count": 8,
   "metadata": {},
   "outputs": [
    {
     "data": {
      "text/plain": [
       "(1000, 31)"
      ]
     },
     "execution_count": 8,
     "metadata": {},
     "output_type": "execute_result"
    }
   ],
   "source": [
    "dataset.shape"
   ]
  },
  {
   "cell_type": "code",
   "execution_count": 9,
   "metadata": {},
   "outputs": [
    {
     "data": {
      "text/html": [
       "<div>\n",
       "<style scoped>\n",
       "    .dataframe tbody tr th:only-of-type {\n",
       "        vertical-align: middle;\n",
       "    }\n",
       "\n",
       "    .dataframe tbody tr th {\n",
       "        vertical-align: top;\n",
       "    }\n",
       "\n",
       "    .dataframe thead th {\n",
       "        text-align: right;\n",
       "    }\n",
       "</style>\n",
       "<table border=\"1\" class=\"dataframe\">\n",
       "  <thead>\n",
       "    <tr style=\"text-align: right;\">\n",
       "      <th></th>\n",
       "      <th>Filename</th>\n",
       "      <th>Chromagram</th>\n",
       "      <th>RootMeanSquare</th>\n",
       "      <th>LowEnergyBrightness</th>\n",
       "      <th>SpectralCentroid</th>\n",
       "      <th>Flatness</th>\n",
       "      <th>Bandwidth</th>\n",
       "      <th>InHarmonicity</th>\n",
       "      <th>Rolloff</th>\n",
       "      <th>ZeroCrossingRate</th>\n",
       "      <th>...</th>\n",
       "      <th>mfcc12</th>\n",
       "      <th>mfcc13</th>\n",
       "      <th>mfcc14</th>\n",
       "      <th>mfcc15</th>\n",
       "      <th>mfcc16</th>\n",
       "      <th>mfcc17</th>\n",
       "      <th>mfcc18</th>\n",
       "      <th>mfcc19</th>\n",
       "      <th>mfcc20</th>\n",
       "      <th>label</th>\n",
       "    </tr>\n",
       "  </thead>\n",
       "  <tbody>\n",
       "    <tr>\n",
       "      <td>0</td>\n",
       "      <td>blues.00000.wav</td>\n",
       "      <td>0.308240</td>\n",
       "      <td>0.082484</td>\n",
       "      <td>27.461745</td>\n",
       "      <td>1530.180434</td>\n",
       "      <td>0.001002</td>\n",
       "      <td>1824.429264</td>\n",
       "      <td>0.001347</td>\n",
       "      <td>3168.064176</td>\n",
       "      <td>0.070382</td>\n",
       "      <td>...</td>\n",
       "      <td>6.820536</td>\n",
       "      <td>0.147667</td>\n",
       "      <td>4.328625</td>\n",
       "      <td>-1.665351</td>\n",
       "      <td>-1.945349</td>\n",
       "      <td>0.523056</td>\n",
       "      <td>-2.841816</td>\n",
       "      <td>-0.065698</td>\n",
       "      <td>-0.999933</td>\n",
       "      <td>blues</td>\n",
       "    </tr>\n",
       "    <tr>\n",
       "      <td>1</td>\n",
       "      <td>blues.00001.wav</td>\n",
       "      <td>0.301362</td>\n",
       "      <td>0.064603</td>\n",
       "      <td>27.914919</td>\n",
       "      <td>1175.096777</td>\n",
       "      <td>0.000376</td>\n",
       "      <td>1712.769659</td>\n",
       "      <td>0.018918</td>\n",
       "      <td>2418.127045</td>\n",
       "      <td>0.044440</td>\n",
       "      <td>...</td>\n",
       "      <td>2.653106</td>\n",
       "      <td>0.852110</td>\n",
       "      <td>2.218112</td>\n",
       "      <td>-4.896205</td>\n",
       "      <td>-1.090712</td>\n",
       "      <td>1.080965</td>\n",
       "      <td>-0.705705</td>\n",
       "      <td>1.682992</td>\n",
       "      <td>-0.814985</td>\n",
       "      <td>blues</td>\n",
       "    </tr>\n",
       "    <tr>\n",
       "      <td>2</td>\n",
       "      <td>blues.00002.wav</td>\n",
       "      <td>0.296246</td>\n",
       "      <td>0.121445</td>\n",
       "      <td>28.715256</td>\n",
       "      <td>1300.687993</td>\n",
       "      <td>0.000450</td>\n",
       "      <td>1573.146791</td>\n",
       "      <td>0.023695</td>\n",
       "      <td>2474.635036</td>\n",
       "      <td>0.064787</td>\n",
       "      <td>...</td>\n",
       "      <td>4.730809</td>\n",
       "      <td>-7.923660</td>\n",
       "      <td>-5.274928</td>\n",
       "      <td>-8.546422</td>\n",
       "      <td>0.367640</td>\n",
       "      <td>-7.297458</td>\n",
       "      <td>-4.841222</td>\n",
       "      <td>-3.672829</td>\n",
       "      <td>-4.288005</td>\n",
       "      <td>blues</td>\n",
       "    </tr>\n",
       "    <tr>\n",
       "      <td>3</td>\n",
       "      <td>blues.00003.wav</td>\n",
       "      <td>0.378577</td>\n",
       "      <td>0.117733</td>\n",
       "      <td>27.093797</td>\n",
       "      <td>763.311989</td>\n",
       "      <td>0.000145</td>\n",
       "      <td>1282.633866</td>\n",
       "      <td>0.003308</td>\n",
       "      <td>1384.558294</td>\n",
       "      <td>0.024863</td>\n",
       "      <td>...</td>\n",
       "      <td>5.116895</td>\n",
       "      <td>0.443054</td>\n",
       "      <td>-1.879724</td>\n",
       "      <td>0.222495</td>\n",
       "      <td>1.200053</td>\n",
       "      <td>-0.744148</td>\n",
       "      <td>1.804096</td>\n",
       "      <td>-0.031980</td>\n",
       "      <td>-4.040267</td>\n",
       "      <td>blues</td>\n",
       "    </tr>\n",
       "    <tr>\n",
       "      <td>4</td>\n",
       "      <td>blues.00004.wav</td>\n",
       "      <td>0.261497</td>\n",
       "      <td>0.060894</td>\n",
       "      <td>28.869262</td>\n",
       "      <td>1537.410063</td>\n",
       "      <td>0.000794</td>\n",
       "      <td>1578.964166</td>\n",
       "      <td>-0.049976</td>\n",
       "      <td>2951.473820</td>\n",
       "      <td>0.085609</td>\n",
       "      <td>...</td>\n",
       "      <td>-6.884247</td>\n",
       "      <td>-6.812018</td>\n",
       "      <td>-12.432060</td>\n",
       "      <td>-10.807361</td>\n",
       "      <td>-8.185105</td>\n",
       "      <td>-5.412588</td>\n",
       "      <td>-1.941454</td>\n",
       "      <td>-7.050840</td>\n",
       "      <td>-17.652891</td>\n",
       "      <td>blues</td>\n",
       "    </tr>\n",
       "  </tbody>\n",
       "</table>\n",
       "<p>5 rows × 31 columns</p>\n",
       "</div>"
      ],
      "text/plain": [
       "          Filename  Chromagram  RootMeanSquare  LowEnergyBrightness  \\\n",
       "0  blues.00000.wav    0.308240        0.082484            27.461745   \n",
       "1  blues.00001.wav    0.301362        0.064603            27.914919   \n",
       "2  blues.00002.wav    0.296246        0.121445            28.715256   \n",
       "3  blues.00003.wav    0.378577        0.117733            27.093797   \n",
       "4  blues.00004.wav    0.261497        0.060894            28.869262   \n",
       "\n",
       "   SpectralCentroid  Flatness    Bandwidth  InHarmonicity      Rolloff  \\\n",
       "0       1530.180434  0.001002  1824.429264       0.001347  3168.064176   \n",
       "1       1175.096777  0.000376  1712.769659       0.018918  2418.127045   \n",
       "2       1300.687993  0.000450  1573.146791       0.023695  2474.635036   \n",
       "3        763.311989  0.000145  1282.633866       0.003308  1384.558294   \n",
       "4       1537.410063  0.000794  1578.964166      -0.049976  2951.473820   \n",
       "\n",
       "   ZeroCrossingRate  ...    mfcc12    mfcc13     mfcc14     mfcc15    mfcc16  \\\n",
       "0          0.070382  ...  6.820536  0.147667   4.328625  -1.665351 -1.945349   \n",
       "1          0.044440  ...  2.653106  0.852110   2.218112  -4.896205 -1.090712   \n",
       "2          0.064787  ...  4.730809 -7.923660  -5.274928  -8.546422  0.367640   \n",
       "3          0.024863  ...  5.116895  0.443054  -1.879724   0.222495  1.200053   \n",
       "4          0.085609  ... -6.884247 -6.812018 -12.432060 -10.807361 -8.185105   \n",
       "\n",
       "     mfcc17    mfcc18    mfcc19     mfcc20  label  \n",
       "0  0.523056 -2.841816 -0.065698  -0.999933  blues  \n",
       "1  1.080965 -0.705705  1.682992  -0.814985  blues  \n",
       "2 -7.297458 -4.841222 -3.672829  -4.288005  blues  \n",
       "3 -0.744148  1.804096 -0.031980  -4.040267  blues  \n",
       "4 -5.412588 -1.941454 -7.050840 -17.652891  blues  \n",
       "\n",
       "[5 rows x 31 columns]"
      ]
     },
     "execution_count": 9,
     "metadata": {},
     "output_type": "execute_result"
    }
   ],
   "source": [
    "dataset.head()"
   ]
  },
  {
   "cell_type": "code",
   "execution_count": 18,
   "metadata": {},
   "outputs": [
    {
     "data": {
      "text/plain": [
       "array([[ 3.08240443e-01,  8.24842453e-02,  2.74617448e+01, ...,\n",
       "        -2.84181595e+00, -6.56982735e-02, -9.99933362e-01],\n",
       "       [ 3.01362425e-01,  6.46026880e-02,  2.79149191e+01, ...,\n",
       "        -7.05705345e-01,  1.68299246e+00, -8.14985037e-01],\n",
       "       [ 2.96246499e-01,  1.21445291e-01,  2.87152562e+01, ...,\n",
       "        -4.84122181e+00, -3.67282891e+00, -4.28800535e+00],\n",
       "       ...,\n",
       "       [ 3.66348594e-01,  6.05485290e-02,  3.00182623e+01, ...,\n",
       "        -9.14186612e-02, -1.25586147e+01, -6.97441912e+00],\n",
       "       [ 3.27992857e-01,  7.18119740e-02,  2.97850345e+01, ...,\n",
       "         1.31087527e-02, -4.22884464e+00, -5.78809404e+00],\n",
       "       [ 3.35971713e-01,  4.95662913e-02,  3.22040486e+01, ...,\n",
       "        -1.39498103e+00, -7.16741681e-02,  1.03679252e+00]])"
      ]
     },
     "execution_count": 18,
     "metadata": {},
     "output_type": "execute_result"
    }
   ],
   "source": [
    "# Y = dataset['label']\n",
    "X = dataset\n",
    "X['numlabels'] = X['label'].astype('category').cat.codes\n",
    "X = dataset.drop(['Filename', 'label', 'numlabels'],axis=1) #Filename is not required\n",
    "Y = dataset['numlabels']\n",
    "X = np.array(X)\n",
    "Y = np.array(Y)\n",
    "X"
   ]
  },
  {
   "cell_type": "code",
   "execution_count": 6,
   "metadata": {},
   "outputs": [],
   "source": [
    "# features = ['Chromagram','RootMeanSquare','LowEnergyBrightness','SpectralCentroid','Flatness','Bandwidth','InHarmonicity','Rolloff','ZeroCrossingRate','mfcc1','mfcc2','mfcc3','mfcc4','mfcc5','mfcc6','mfcc7','mfcc8','mfcc9','mfcc10','mfcc11','mfcc12','mfcc13','mfcc14','mfcc15','mfcc16','mfcc17','mfcc18','mfcc19','mfcc20']\n",
    "# # Separating out the features\n",
    "# x = X.loc[:, features].values\n",
    "# # Separating out the target\n",
    "# # Standardizing the features\n",
    "# x = StandardScaler().fit_transform(x)"
   ]
  },
  {
   "cell_type": "code",
   "execution_count": 7,
   "metadata": {},
   "outputs": [
    {
     "name": "stdout",
     "output_type": "stream",
     "text": [
      "     principal component 1  principal component 2\n",
      "0                -0.822402               0.279928\n",
      "1                -2.048931               1.375288\n",
      "2                -1.362734              -2.317501\n",
      "3                -3.448859               2.659908\n",
      "4                -3.485408              -3.881436\n",
      "..                     ...                    ...\n",
      "995               0.188805              -2.893958\n",
      "996               0.368303              -3.207954\n",
      "997               0.564943              -4.366373\n",
      "998              -2.373250              -0.419661\n",
      "999              -0.952625              -0.973351\n",
      "\n",
      "[1000 rows x 2 columns]\n"
     ]
    }
   ],
   "source": [
    "# pca = PCA(n_components=2)\n",
    "# principalComponents = pca.fit_transform(x)\n",
    "# principalDf = pd.DataFrame(data = principalComponents\n",
    "#              , columns = ['principal component 1', 'principal component 2'])\n",
    "# print(principalDf)"
   ]
  },
  {
   "cell_type": "code",
   "execution_count": 8,
   "metadata": {},
   "outputs": [
    {
     "name": "stdout",
     "output_type": "stream",
     "text": [
      "     principal component 1  principal component 2  numlabels\n",
      "0                -0.822402               0.279928          0\n",
      "1                -2.048931               1.375288          0\n",
      "2                -1.362734              -2.317501          0\n",
      "3                -3.448859               2.659908          0\n",
      "4                -3.485408              -3.881436          0\n",
      "..                     ...                    ...        ...\n",
      "995               0.188805              -2.893958          9\n",
      "996               0.368303              -3.207954          9\n",
      "997               0.564943              -4.366373          9\n",
      "998              -2.373250              -0.419661          9\n",
      "999              -0.952625              -0.973351          9\n",
      "\n",
      "[1000 rows x 3 columns]\n"
     ]
    }
   ],
   "source": [
    "# finalDf = pd.concat([principalDf, X[['numlabels']]], axis = 1)\n",
    "# print(finalDf)"
   ]
  },
  {
   "cell_type": "code",
   "execution_count": 9,
   "metadata": {},
   "outputs": [],
   "source": [
    "# X = finalDf.drop(['numlabels'],axis=1)\n",
    "# #Y = finalDf.drop(['principal component 1', 'principal component 2'],axis=1)\n",
    "# X = np.array(X)\n",
    "# Y = np.array(finalDf['numlabels'])"
   ]
  },
  {
   "cell_type": "code",
   "execution_count": 19,
   "metadata": {},
   "outputs": [],
   "source": [
    "from sklearn.model_selection import train_test_split\n",
    "X_train, X_test, Y_train, Y_test = train_test_split(X, Y, test_size=0.1)"
   ]
  },
  {
   "cell_type": "code",
   "execution_count": 20,
   "metadata": {},
   "outputs": [
    {
     "name": "stdout",
     "output_type": "stream",
     "text": [
      "Training data shape :  (900, 29) (900,)\n",
      "Testing data shape :  (100, 29) (100,)\n"
     ]
    }
   ],
   "source": [
    "print('Training data shape : ', X_train.shape, Y_train.shape)\n",
    "\n",
    "print('Testing data shape : ', X_test.shape, Y_test.shape)"
   ]
  },
  {
   "cell_type": "code",
   "execution_count": 22,
   "metadata": {},
   "outputs": [
    {
     "data": {
      "text/plain": [
       "((900, 29, 1, 1), (100, 29, 1, 1), (900,), (100,))"
      ]
     },
     "execution_count": 22,
     "metadata": {},
     "output_type": "execute_result"
    }
   ],
   "source": [
    "# X_train = X_train.reshape(900, 2, 1, 1)\n",
    "# X_test = X_test.reshape(100, 2, 1, 1)\n",
    "# X_train.shape, X_test.shape, Y_train.shape, Y_test.shape\n",
    "\n",
    "X_train = X_train.reshape(900, 29, 1, 1)\n",
    "X_test = X_test.reshape(100, 29, 1, 1)\n",
    "X_train.shape, X_test.shape, Y_train.shape, Y_test.shape"
   ]
  },
  {
   "cell_type": "code",
   "execution_count": 23,
   "metadata": {},
   "outputs": [
    {
     "name": "stdout",
     "output_type": "stream",
     "text": [
      "Total number of outputs :  10\n",
      "Output classes :  [0 1 2 3 4 5 6 7 8 9]\n"
     ]
    }
   ],
   "source": [
    "# Find the unique numbers from the train labels\n",
    "classes = np.unique(Y_train)\n",
    "nClasses = len(classes)\n",
    "print('Total number of outputs : ', nClasses)\n",
    "print('Output classes : ', classes)"
   ]
  },
  {
   "cell_type": "code",
   "execution_count": 24,
   "metadata": {},
   "outputs": [
    {
     "name": "stdout",
     "output_type": "stream",
     "text": [
      "Training data shape :  (900, 29, 1, 1) (900,)\n",
      "Testing data shape :  (100, 29, 1, 1) (100,)\n"
     ]
    }
   ],
   "source": [
    "print('Training data shape : ', X_train.shape, Y_train.shape)\n",
    "\n",
    "print('Testing data shape : ', X_test.shape, Y_test.shape)"
   ]
  },
  {
   "cell_type": "code",
   "execution_count": 25,
   "metadata": {},
   "outputs": [
    {
     "name": "stdout",
     "output_type": "stream",
     "text": [
      "Original label: 9\n",
      "After conversion to one-hot: [0. 0. 0. 0. 0. 0. 0. 0. 0. 1.]\n"
     ]
    }
   ],
   "source": [
    "# Change the labels from categorical to one-hot encoding\n",
    "train_Y_one_hot = to_categorical(Y_train)\n",
    "test_Y_one_hot = to_categorical(Y_test)\n",
    "\n",
    "# Display the change for category label using one-hot encoding\n",
    "print('Original label:', Y_train[0])\n",
    "print('After conversion to one-hot:', train_Y_one_hot[0])"
   ]
  },
  {
   "cell_type": "code",
   "execution_count": 26,
   "metadata": {},
   "outputs": [],
   "source": [
    "train_X,valid_X,train_label,valid_label = train_test_split(X_train, train_Y_one_hot, test_size=0.1, random_state=13)"
   ]
  },
  {
   "cell_type": "code",
   "execution_count": 27,
   "metadata": {},
   "outputs": [
    {
     "data": {
      "text/plain": [
       "((810, 29, 1, 1), (90, 29, 1, 1), (810, 10), (90, 10))"
      ]
     },
     "execution_count": 27,
     "metadata": {},
     "output_type": "execute_result"
    }
   ],
   "source": [
    "train_X.shape,valid_X.shape,train_label.shape,valid_label.shape"
   ]
  },
  {
   "cell_type": "code",
   "execution_count": 28,
   "metadata": {},
   "outputs": [],
   "source": [
    "import keras\n",
    "from keras.models import Sequential,Input,Model\n",
    "from keras.layers import Dense, Dropout, Flatten, InputLayer\n",
    "from keras.layers import Conv2D, MaxPooling2D\n",
    "from keras.layers.normalization import BatchNormalization\n",
    "from keras.layers.advanced_activations import LeakyReLU"
   ]
  },
  {
   "cell_type": "code",
   "execution_count": 29,
   "metadata": {},
   "outputs": [],
   "source": [
    "#https://stackoverflow.com/questions/45325802/valueerror-error-when-checking-input-expected-conv1d-1-input-to-have-3-dimensi\n",
    "batch_size = 128\n",
    "epochs = 20\n",
    "num_classes = 10"
   ]
  },
  {
   "cell_type": "code",
   "execution_count": 33,
   "metadata": {},
   "outputs": [],
   "source": [
    "music_model = Sequential()\n",
    "music_model.add(Conv2D(32, kernel_size=(3, 3),activation='linear',input_shape=(29, 1, 1),padding='same'))\n",
    "music_model.add(LeakyReLU(alpha=0.1))\n",
    "music_model.add(MaxPooling2D((2, 2),padding='same'))\n",
    "music_model.add(Conv2D(64, (3, 3), activation='linear',padding='same'))\n",
    "music_model.add(LeakyReLU(alpha=0.1))\n",
    "music_model.add(MaxPooling2D(pool_size=(2, 2),padding='same'))\n",
    "music_model.add(Conv2D(128, (3, 3), activation='linear',padding='same'))\n",
    "music_model.add(LeakyReLU(alpha=0.1))                  \n",
    "music_model.add(MaxPooling2D(pool_size=(2, 2),padding='same'))\n",
    "music_model.add(Flatten())\n",
    "music_model.add(Dense(128, activation='linear'))\n",
    "music_model.add(LeakyReLU(alpha=0.1))                  \n",
    "music_model.add(Dense(num_classes, activation='softmax'))\n",
    "\n",
    "music_model.compile(loss=keras.losses.categorical_crossentropy, optimizer=keras.optimizers.Adam(),metrics=['accuracy'])\n",
    "\n",
    "# music_model = Sequential()\n",
    "\n",
    "# music_model.add(Dense(10, input_dim=2, activation='relu'))\n",
    "\n",
    "# music_model.add(Dense(1, activation='relu'))\n",
    "\n",
    "# music_model.compile(loss = 'mean_squared_error', optimizer = 'adam', metrics = ['accuracy'])"
   ]
  },
  {
   "cell_type": "code",
   "execution_count": 34,
   "metadata": {},
   "outputs": [
    {
     "name": "stdout",
     "output_type": "stream",
     "text": [
      "Model: \"sequential_2\"\n",
      "_________________________________________________________________\n",
      "Layer (type)                 Output Shape              Param #   \n",
      "=================================================================\n",
      "conv2d_4 (Conv2D)            (None, 29, 1, 32)         320       \n",
      "_________________________________________________________________\n",
      "leaky_re_lu_5 (LeakyReLU)    (None, 29, 1, 32)         0         \n",
      "_________________________________________________________________\n",
      "max_pooling2d_4 (MaxPooling2 (None, 15, 1, 32)         0         \n",
      "_________________________________________________________________\n",
      "conv2d_5 (Conv2D)            (None, 15, 1, 64)         18496     \n",
      "_________________________________________________________________\n",
      "leaky_re_lu_6 (LeakyReLU)    (None, 15, 1, 64)         0         \n",
      "_________________________________________________________________\n",
      "max_pooling2d_5 (MaxPooling2 (None, 8, 1, 64)          0         \n",
      "_________________________________________________________________\n",
      "conv2d_6 (Conv2D)            (None, 8, 1, 128)         73856     \n",
      "_________________________________________________________________\n",
      "leaky_re_lu_7 (LeakyReLU)    (None, 8, 1, 128)         0         \n",
      "_________________________________________________________________\n",
      "max_pooling2d_6 (MaxPooling2 (None, 4, 1, 128)         0         \n",
      "_________________________________________________________________\n",
      "flatten_2 (Flatten)          (None, 512)               0         \n",
      "_________________________________________________________________\n",
      "dense_3 (Dense)              (None, 128)               65664     \n",
      "_________________________________________________________________\n",
      "leaky_re_lu_8 (LeakyReLU)    (None, 128)               0         \n",
      "_________________________________________________________________\n",
      "dense_4 (Dense)              (None, 10)                1290      \n",
      "=================================================================\n",
      "Total params: 159,626\n",
      "Trainable params: 159,626\n",
      "Non-trainable params: 0\n",
      "_________________________________________________________________\n"
     ]
    }
   ],
   "source": [
    "music_model.summary()"
   ]
  },
  {
   "cell_type": "code",
   "execution_count": 35,
   "metadata": {},
   "outputs": [
    {
     "name": "stdout",
     "output_type": "stream",
     "text": [
      "Train on 810 samples, validate on 90 samples\n",
      "Epoch 1/20\n",
      "810/810 [==============================] - 0s 244us/step - loss: 33.9542 - accuracy: 0.0827 - val_loss: 20.6887 - val_accuracy: 0.0556\n",
      "Epoch 2/20\n",
      "810/810 [==============================] - 0s 112us/step - loss: 18.5591 - accuracy: 0.0753 - val_loss: 10.0231 - val_accuracy: 0.1222\n",
      "Epoch 3/20\n",
      "810/810 [==============================] - 0s 112us/step - loss: 7.0203 - accuracy: 0.1494 - val_loss: 4.0510 - val_accuracy: 0.1667\n",
      "Epoch 4/20\n",
      "810/810 [==============================] - 0s 110us/step - loss: 3.6458 - accuracy: 0.1580 - val_loss: 3.1895 - val_accuracy: 0.1333\n",
      "Epoch 5/20\n",
      "810/810 [==============================] - 0s 110us/step - loss: 2.7108 - accuracy: 0.1481 - val_loss: 2.3431 - val_accuracy: 0.2778\n",
      "Epoch 6/20\n",
      "810/810 [==============================] - 0s 112us/step - loss: 2.2515 - accuracy: 0.2395 - val_loss: 2.0477 - val_accuracy: 0.2222\n",
      "Epoch 7/20\n",
      "810/810 [==============================] - 0s 111us/step - loss: 2.0692 - accuracy: 0.2358 - val_loss: 1.9935 - val_accuracy: 0.2667\n",
      "Epoch 8/20\n",
      "810/810 [==============================] - 0s 124us/step - loss: 1.9676 - accuracy: 0.3111 - val_loss: 1.8350 - val_accuracy: 0.3667\n",
      "Epoch 9/20\n",
      "810/810 [==============================] - 0s 115us/step - loss: 1.9054 - accuracy: 0.2926 - val_loss: 1.7817 - val_accuracy: 0.3667\n",
      "Epoch 10/20\n",
      "810/810 [==============================] - 0s 110us/step - loss: 1.9008 - accuracy: 0.2741 - val_loss: 1.7392 - val_accuracy: 0.3778\n",
      "Epoch 11/20\n",
      "810/810 [==============================] - 0s 113us/step - loss: 1.8289 - accuracy: 0.3296 - val_loss: 1.7581 - val_accuracy: 0.3222\n",
      "Epoch 12/20\n",
      "810/810 [==============================] - 0s 115us/step - loss: 1.8731 - accuracy: 0.3296 - val_loss: 1.8323 - val_accuracy: 0.3444\n",
      "Epoch 13/20\n",
      "810/810 [==============================] - 0s 111us/step - loss: 1.8561 - accuracy: 0.3481 - val_loss: 1.7534 - val_accuracy: 0.3667\n",
      "Epoch 14/20\n",
      "810/810 [==============================] - 0s 117us/step - loss: 1.7942 - accuracy: 0.3741 - val_loss: 1.6532 - val_accuracy: 0.4222\n",
      "Epoch 15/20\n",
      "810/810 [==============================] - 0s 119us/step - loss: 1.7535 - accuracy: 0.3926 - val_loss: 1.5866 - val_accuracy: 0.4333\n",
      "Epoch 16/20\n",
      "810/810 [==============================] - 0s 123us/step - loss: 1.6799 - accuracy: 0.3963 - val_loss: 1.6630 - val_accuracy: 0.3778\n",
      "Epoch 17/20\n",
      "810/810 [==============================] - 0s 115us/step - loss: 1.6943 - accuracy: 0.3741 - val_loss: 1.4971 - val_accuracy: 0.5111\n",
      "Epoch 18/20\n",
      "810/810 [==============================] - 0s 123us/step - loss: 1.6465 - accuracy: 0.4198 - val_loss: 1.6014 - val_accuracy: 0.3889\n",
      "Epoch 19/20\n",
      "810/810 [==============================] - 0s 112us/step - loss: 1.6224 - accuracy: 0.4420 - val_loss: 1.4523 - val_accuracy: 0.5111\n",
      "Epoch 20/20\n",
      "810/810 [==============================] - 0s 117us/step - loss: 1.5852 - accuracy: 0.4420 - val_loss: 1.5573 - val_accuracy: 0.4556\n"
     ]
    }
   ],
   "source": [
    "music_train = music_model.fit(train_X, train_label, batch_size=batch_size,epochs=epochs,verbose=1,validation_data=(valid_X, valid_label))\n",
    "# music_train = music_model.fit(X_train, Y_train, validation_data=(X_test, Y_test) ,epochs=400)"
   ]
  },
  {
   "cell_type": "code",
   "execution_count": 36,
   "metadata": {},
   "outputs": [],
   "source": [
    "test_eval = music_model.evaluate(X_test, test_Y_one_hot, verbose=0)"
   ]
  },
  {
   "cell_type": "code",
   "execution_count": 37,
   "metadata": {},
   "outputs": [
    {
     "name": "stdout",
     "output_type": "stream",
     "text": [
      "Test loss: 1.6424913024902343\n",
      "Test accuracy: 0.38999998569488525\n"
     ]
    }
   ],
   "source": [
    "print('Test loss:', test_eval[0])\n",
    "print('Test accuracy:', test_eval[1])"
   ]
  },
  {
   "cell_type": "code",
   "execution_count": 38,
   "metadata": {},
   "outputs": [
    {
     "ename": "KeyError",
     "evalue": "'acc'",
     "output_type": "error",
     "traceback": [
      "\u001b[1;31m---------------------------------------------------------------------------\u001b[0m",
      "\u001b[1;31mKeyError\u001b[0m                                  Traceback (most recent call last)",
      "\u001b[1;32m<ipython-input-38-73e9ce9824dd>\u001b[0m in \u001b[0;36m<module>\u001b[1;34m\u001b[0m\n\u001b[1;32m----> 1\u001b[1;33m \u001b[0maccuracy\u001b[0m \u001b[1;33m=\u001b[0m \u001b[0mmusic_train\u001b[0m\u001b[1;33m.\u001b[0m\u001b[0mhistory\u001b[0m\u001b[1;33m[\u001b[0m\u001b[1;34m'acc'\u001b[0m\u001b[1;33m]\u001b[0m\u001b[1;33m\u001b[0m\u001b[1;33m\u001b[0m\u001b[0m\n\u001b[0m\u001b[0;32m      2\u001b[0m \u001b[0mval_accuracy\u001b[0m \u001b[1;33m=\u001b[0m \u001b[0mmusic_train\u001b[0m\u001b[1;33m.\u001b[0m\u001b[0mhistory\u001b[0m\u001b[1;33m[\u001b[0m\u001b[1;34m'val_acc'\u001b[0m\u001b[1;33m]\u001b[0m\u001b[1;33m\u001b[0m\u001b[1;33m\u001b[0m\u001b[0m\n\u001b[0;32m      3\u001b[0m \u001b[0mloss\u001b[0m \u001b[1;33m=\u001b[0m \u001b[0mmusic_train\u001b[0m\u001b[1;33m.\u001b[0m\u001b[0mhistory\u001b[0m\u001b[1;33m[\u001b[0m\u001b[1;34m'loss'\u001b[0m\u001b[1;33m]\u001b[0m\u001b[1;33m\u001b[0m\u001b[1;33m\u001b[0m\u001b[0m\n\u001b[0;32m      4\u001b[0m \u001b[0mval_loss\u001b[0m \u001b[1;33m=\u001b[0m \u001b[0mmusic_train\u001b[0m\u001b[1;33m.\u001b[0m\u001b[0mhistory\u001b[0m\u001b[1;33m[\u001b[0m\u001b[1;34m'val_loss'\u001b[0m\u001b[1;33m]\u001b[0m\u001b[1;33m\u001b[0m\u001b[1;33m\u001b[0m\u001b[0m\n\u001b[0;32m      5\u001b[0m \u001b[0mepochs\u001b[0m \u001b[1;33m=\u001b[0m \u001b[0mrange\u001b[0m\u001b[1;33m(\u001b[0m\u001b[0mlen\u001b[0m\u001b[1;33m(\u001b[0m\u001b[0maccuracy\u001b[0m\u001b[1;33m)\u001b[0m\u001b[1;33m)\u001b[0m\u001b[1;33m\u001b[0m\u001b[1;33m\u001b[0m\u001b[0m\n",
      "\u001b[1;31mKeyError\u001b[0m: 'acc'"
     ]
    }
   ],
   "source": [
    "accuracy = music_train.history['acc']\n",
    "val_accuracy = music_train.history['val_acc']\n",
    "loss = music_train.history['loss']\n",
    "val_loss = music_train.history['val_loss']\n",
    "epochs = range(len(accuracy))\n",
    "plt.plot(epochs, accuracy, 'bo', label='Training accuracy')\n",
    "plt.plot(epochs, val_accuracy, 'b', label='Validation accuracy')\n",
    "plt.title('Training and validation accuracy')\n",
    "plt.legend()\n",
    "plt.figure()\n",
    "plt.plot(epochs, loss, 'bo', label='Training loss')\n",
    "plt.plot(epochs, val_loss, 'b', label='Validation loss')\n",
    "plt.title('Training and validation loss')\n",
    "plt.legend()\n",
    "plt.show()"
   ]
  },
  {
   "cell_type": "code",
   "execution_count": null,
   "metadata": {},
   "outputs": [],
   "source": []
  }
 ],
 "metadata": {
  "kernelspec": {
   "display_name": "Python 3",
   "language": "python",
   "name": "python3"
  },
  "language_info": {
   "codemirror_mode": {
    "name": "ipython",
    "version": 3
   },
   "file_extension": ".py",
   "mimetype": "text/x-python",
   "name": "python",
   "nbconvert_exporter": "python",
   "pygments_lexer": "ipython3",
   "version": "3.7.4"
  }
 },
 "nbformat": 4,
 "nbformat_minor": 2
}
