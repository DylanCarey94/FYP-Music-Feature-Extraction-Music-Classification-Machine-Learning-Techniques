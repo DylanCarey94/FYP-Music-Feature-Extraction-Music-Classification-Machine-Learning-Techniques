{
 "cells": [
  {
   "cell_type": "code",
   "execution_count": null,
   "metadata": {},
   "outputs": [],
   "source": [
    "import argparse\n",
    "import matplotlib.pyplot as plt\n",
    "import librosa\n",
    "import numpy as np\n",
    "import os\n",
    "from progressbar import ProgressBar\n",
    "\n",
    "parser = argparse.ArgumentParser(\n",
    "\tdescription='Split audio into multiple files and save analysis.')\n",
    "parser.add_argument('-i', '--input', type=str)\n",
    "parser.add_argument('-o', '--output', type=str, default='transients')\n",
    "parser.add_argument('-s', '--sr', type=int, default=44100)\n",
    "args = parser.parse_args()\n",
    "\n",
    "y, sr = librosa.load(args.input, sr=args.sr)\n",
    "o_env = librosa.onset.onset_strength(y, sr=sr, feature=librosa.cqt)\n",
    "onset_frames = librosa.onset.onset_detect(onset_envelope=o_env, sr=sr)\n",
    "\n",
    "def prepare(y, sr=22050):\n",
    "    y = librosa.to_mono(y)\n",
    "    y = librosa.util.fix_length(y, sr) # 1 second of audio\n",
    "    y = librosa.util.normalize(y)\n",
    "    return y\n",
    "\n",
    "def get_fingerprint(y, sr=22050):\n",
    "    y = prepare(y, sr)\n",
    "    cqt = librosa.cqt(y, sr=sr, hop_length=2048)\n",
    "    return cqt.flatten('F')\n",
    "\n",
    "def normalize(x):\n",
    "    x -= x.min(axis=0)\n",
    "    x /= x.max(axis=0)\n",
    "    return x\n",
    "\n",
    "def basename(file):\n",
    "    file = os.path.basename(file)\n",
    "    return os.path.splitext(file)[0]\n",
    "\n",
    "vectors = []\n",
    "words = []\n",
    "filenames = []\n",
    "\n",
    "onset_samples = list(librosa.frames_to_samples(onset_frames))\n",
    "onset_samples = np.concatenate(onset_samples, len(y))\n",
    "starts = onset_samples[0:-1]\n",
    "stops = onset_samples[1:]\n",
    "analysis_folder = args.output\n",
    "samples_folder = os.path.join(args.output, 'samples')\n",
    "try:\n",
    "\tos.makedirs(samples_folder)\n",
    "except:\n",
    "\tpass\n",
    "pbar = ProgressBar()\n",
    "for i, (start, stop) in enumerate(pbar(zip(starts, stops))):\n",
    "    audio = y[start:stop]\n",
    "    filename = os.path.join(samples_folder, str(i) + '.wav')\n",
    "    librosa.output.write_wav(filename, audio, sr)\n",
    "    vector = get_fingerprint(audio, sr=sr)\n",
    "    word = basename(filename)\n",
    "    vectors.append(vector)\n",
    "    words.append(word)\n",
    "    filenames.append(filename)\n",
    "np.savetxt(os.path.join(analysis_folder, 'vectors'), vectors, fmt='%.5f', delimiter='\\t')\n",
    "np.savetxt(os.path.join(analysis_folder, 'words'), words, fmt='%s')\n",
    "np.savetxt(os.path.join(analysis_folder, 'filenames.txt'), filenames, fmt='%s')"
   ]
  },
  {
   "cell_type": "code",
   "execution_count": 2,
   "metadata": {},
   "outputs": [
    {
     "ename": "NameError",
     "evalue": "name 'basename' is not defined",
     "output_type": "error",
     "traceback": [
      "\u001b[1;31m---------------------------------------------------------------------------\u001b[0m",
      "\u001b[1;31mNameError\u001b[0m                                 Traceback (most recent call last)",
      "\u001b[1;32m<ipython-input-2-efdc46575ce5>\u001b[0m in \u001b[0;36m<module>\u001b[1;34m()\u001b[0m\n\u001b[1;32m----> 1\u001b[1;33m \u001b[0mbasename\u001b[0m\u001b[1;33m(\u001b[0m\u001b[1;34m\"example.wav\"\u001b[0m\u001b[1;33m)\u001b[0m\u001b[1;33m\u001b[0m\u001b[0m\n\u001b[0m",
      "\u001b[1;31mNameError\u001b[0m: name 'basename' is not defined"
     ]
    }
   ],
   "source": [
    "basename(\"example.wav\")"
   ]
  }
 ],
 "metadata": {
  "kernelspec": {
   "display_name": "Python 3",
   "language": "python",
   "name": "python3"
  },
  "language_info": {
   "codemirror_mode": {
    "name": "ipython",
    "version": 3
   },
   "file_extension": ".py",
   "mimetype": "text/x-python",
   "name": "python",
   "nbconvert_exporter": "python",
   "pygments_lexer": "ipython3",
   "version": "3.6.5"
  }
 },
 "nbformat": 4,
 "nbformat_minor": 2
}
